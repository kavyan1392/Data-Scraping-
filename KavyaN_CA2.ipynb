{
 "cells": [
  {
   "cell_type": "code",
   "execution_count": 1,
   "metadata": {
    "collapsed": true
   },
   "outputs": [],
   "source": [
    "import requests\n",
    "BASE_URL = 'https://en.wikipedia.org'\n",
    "resp = requests.get(BASE_URL+'/wiki/List_of_Presidents_of_the_United_States')"
   ]
  },
  {
   "cell_type": "code",
   "execution_count": 2,
   "metadata": {
    "collapsed": true
   },
   "outputs": [],
   "source": [
    "from bs4 import BeautifulSoup"
   ]
  },
  {
   "cell_type": "code",
   "execution_count": 3,
   "metadata": {
    "collapsed": true
   },
   "outputs": [],
   "source": [
    "soup = BeautifulSoup(resp.text, 'lxml')"
   ]
  },
  {
   "cell_type": "code",
   "execution_count": 4,
   "metadata": {
    "collapsed": true
   },
   "outputs": [],
   "source": [
    "tables = soup.select('table')"
   ]
  },
  {
   "cell_type": "code",
   "execution_count": 5,
   "metadata": {
    "collapsed": true
   },
   "outputs": [],
   "source": [
    "table_rows = tables[1].select('tr')"
   ]
  },
  {
   "cell_type": "markdown",
   "metadata": {},
   "source": [
    "## Question 1 - How many Presidents died while in office? Identify them by name, and provide the date of their death.\n"
   ]
  },
  {
   "cell_type": "markdown",
   "metadata": {},
   "source": [
    "Strategy -I have picked up the text \"(Died in office)\" from 2nd column(Startterm and endterm) to identify Presidents who died in office.  \n"
   ]
  },
  {
   "cell_type": "code",
   "execution_count": 6,
   "metadata": {},
   "outputs": [
    {
     "name": "stdout",
     "output_type": "stream",
     "text": [
      "George Washington\n",
      "No\n",
      "March 4, 1797\n",
      "John Adams\n",
      "No\n",
      "March 4, 1801\n",
      "Thomas Jefferson\n",
      "No\n",
      "March 4, 1809\n",
      "James Madison\n",
      "No\n",
      "March 4, 1817\n",
      "James Monroe\n",
      "No\n",
      "March 4, 1825\n",
      "John Quincy Adams\n",
      "No\n",
      "March 4, 1829\n",
      "Andrew Jackson\n",
      "No\n",
      "March 4, 1837\n",
      "Martin Van Buren\n",
      "No\n",
      "March 4, 1841\n",
      "William Henry Harrison\n",
      "Yes\n",
      "April 4, 1841\n",
      "John Tyler\n",
      "No\n",
      "March 4, 1845\n",
      "James K. Polk\n",
      "No\n",
      "March 4, 1849\n",
      "Zachary Taylor\n",
      "Yes\n",
      "July 9, 1850\n",
      "Millard Fillmore\n",
      "No\n",
      "March 4, 1853\n",
      "Franklin Pierce\n",
      "No\n",
      "March 4, 1857\n",
      "James Buchanan\n",
      "No\n",
      "March 4, 1861\n",
      "Abraham Lincoln\n",
      "Yes\n",
      "April 15, 1865\n",
      "Andrew Johnson\n",
      "No\n",
      "March 4, 1869\n",
      "Ulysses S. Grant\n",
      "No\n",
      "March 4, 1877\n",
      "Rutherford B. Hayes\n",
      "No\n",
      "March 4, 1881\n",
      "James A. Garfield\n",
      "Yes\n",
      "September 19, 1881\n",
      "Chester A. Arthur\n",
      "No\n",
      "March 4, 1885\n",
      "Grover Cleveland\n",
      "No\n",
      "March 4, 1889\n",
      "Benjamin Harrison\n",
      "No\n",
      "March 4, 1893\n",
      "Grover Cleveland\n",
      "No\n",
      "March 4, 1897\n",
      "William McKinley\n",
      "Yes\n",
      "September 14, 1901\n",
      "Theodore Roosevelt\n",
      "No\n",
      "March 4, 1909\n",
      "William Howard Taft\n",
      "No\n",
      "March 4, 1913\n",
      "Woodrow Wilson\n",
      "No\n",
      "March 4, 1921\n",
      "Warren G. Harding\n",
      "Yes\n",
      "August 2, 1923\n",
      "Calvin Coolidge\n",
      "No\n",
      "March 4, 1929\n",
      "Herbert Hoover\n",
      "No\n",
      "March 4, 1933\n",
      "Franklin D. Roosevelt\n",
      "Yes\n",
      "April 12, 1945\n",
      "Harry S. Truman\n",
      "No\n",
      "January 20, 1953\n",
      "Dwight D. Eisenhower\n",
      "No\n",
      "January 20, 1961\n",
      "John F. Kennedy\n",
      "Yes\n",
      "November 22, 1963\n",
      "Lyndon B. Johnson\n",
      "No\n",
      "January 20, 1969\n",
      "Richard Nixon\n",
      "No\n",
      "August 9, 1974\n",
      "Gerald Ford\n",
      "No\n",
      "January 20, 1977\n",
      "Jimmy Carter\n",
      "No\n",
      "January 20, 1981\n",
      "Ronald Reagan\n",
      "No\n",
      "January 20, 1989\n",
      "George H. W. Bush\n",
      "No\n",
      "January 20, 1993\n",
      "Bill Clinton\n",
      "No\n",
      "January 20, 2001\n",
      "George W. Bush\n",
      "No\n",
      "January 20, 2009\n",
      "Barack Obama\n",
      "No\n",
      "January 20, 2017\n",
      "Donald Trump\n",
      "No\n",
      "Incumbent\n"
     ]
    }
   ],
   "source": [
    "datatotable1 = []\n",
    "\n",
    "start_row = 2\n",
    "for row in range(start_row, len(table_rows)):\n",
    "    data_items = table_rows[row].select('td')\n",
    "    try:\n",
    "        Presidentname = data_items[3].find('a').text\n",
    "        DiedinOffice = data_items[1].text\n",
    "    except:\n",
    "        continue\n",
    "        \n",
    "    try:\n",
    "        Died_on = data_items[1].select('span')[1].text\n",
    "    except:\n",
    "        try:\n",
    "            Died_on = data_items[1].text.split('\\n')[2]\n",
    "            # Franklin D. Roosevelt is formatted differently.\n",
    "        except:\n",
    "            continue\n",
    "        \n",
    "\n",
    "    try:\n",
    "        if '(Died in office)' in DiedinOffice:\n",
    "            DiedinOffice = 'Yes' #if 'Died in office' is found in first column then printing 'Yes'\n",
    "        else:\n",
    "            DiedinOffice = 'No'\n",
    "    except:\n",
    "        continue\n",
    "    print(Presidentname)\n",
    "    print(DiedinOffice)\n",
    "    print(Died_on)\n",
    "        \n",
    "    \n",
    "    datatotable1.append((Presidentname,DiedinOffice,Died_on))"
   ]
  },
  {
   "cell_type": "code",
   "execution_count": 7,
   "metadata": {},
   "outputs": [
    {
     "data": {
      "text/plain": [
       "[('George Washington', 'No', 'March 4, 1797'),\n",
       " ('John Adams', 'No', 'March 4, 1801'),\n",
       " ('Thomas Jefferson', 'No', 'March 4, 1809'),\n",
       " ('James Madison', 'No', 'March 4, 1817'),\n",
       " ('James Monroe', 'No', 'March 4, 1825'),\n",
       " ('John Quincy Adams', 'No', 'March 4, 1829'),\n",
       " ('Andrew Jackson', 'No', 'March 4, 1837'),\n",
       " ('Martin Van Buren', 'No', 'March 4, 1841'),\n",
       " ('William Henry Harrison', 'Yes', 'April 4, 1841'),\n",
       " ('John Tyler', 'No', 'March 4, 1845'),\n",
       " ('James K. Polk', 'No', 'March 4, 1849'),\n",
       " ('Zachary Taylor', 'Yes', 'July 9, 1850'),\n",
       " ('Millard Fillmore', 'No', 'March 4, 1853'),\n",
       " ('Franklin Pierce', 'No', 'March 4, 1857'),\n",
       " ('James Buchanan', 'No', 'March 4, 1861'),\n",
       " ('Abraham Lincoln', 'Yes', 'April 15, 1865'),\n",
       " ('Andrew Johnson', 'No', 'March 4, 1869'),\n",
       " ('Ulysses S. Grant', 'No', 'March 4, 1877'),\n",
       " ('Rutherford B. Hayes', 'No', 'March 4, 1881'),\n",
       " ('James A. Garfield', 'Yes', 'September 19, 1881'),\n",
       " ('Chester A. Arthur', 'No', 'March 4, 1885'),\n",
       " ('Grover Cleveland', 'No', 'March 4, 1889'),\n",
       " ('Benjamin Harrison', 'No', 'March 4, 1893'),\n",
       " ('Grover Cleveland', 'No', 'March 4, 1897'),\n",
       " ('William McKinley', 'Yes', 'September 14, 1901'),\n",
       " ('Theodore Roosevelt', 'No', 'March 4, 1909'),\n",
       " ('William Howard Taft', 'No', 'March 4, 1913'),\n",
       " ('Woodrow Wilson', 'No', 'March 4, 1921'),\n",
       " ('Warren G. Harding', 'Yes', 'August 2, 1923'),\n",
       " ('Calvin Coolidge', 'No', 'March 4, 1929'),\n",
       " ('Herbert Hoover', 'No', 'March 4, 1933'),\n",
       " ('Franklin D. Roosevelt', 'Yes', 'April 12, 1945'),\n",
       " ('Harry S. Truman', 'No', 'January 20, 1953'),\n",
       " ('Dwight D. Eisenhower', 'No', 'January 20, 1961'),\n",
       " ('John F. Kennedy', 'Yes', 'November 22, 1963'),\n",
       " ('Lyndon B. Johnson', 'No', 'January 20, 1969'),\n",
       " ('Richard Nixon', 'No', 'August 9, 1974'),\n",
       " ('Gerald Ford', 'No', 'January 20, 1977'),\n",
       " ('Jimmy Carter', 'No', 'January 20, 1981'),\n",
       " ('Ronald Reagan', 'No', 'January 20, 1989'),\n",
       " ('George H. W. Bush', 'No', 'January 20, 1993'),\n",
       " ('Bill Clinton', 'No', 'January 20, 2001'),\n",
       " ('George W. Bush', 'No', 'January 20, 2009'),\n",
       " ('Barack Obama', 'No', 'January 20, 2017'),\n",
       " ('Donald Trump', 'No', 'Incumbent')]"
      ]
     },
     "execution_count": 7,
     "metadata": {},
     "output_type": "execute_result"
    }
   ],
   "source": [
    "datatotable1"
   ]
  },
  {
   "cell_type": "code",
   "execution_count": 8,
   "metadata": {
    "collapsed": true
   },
   "outputs": [],
   "source": [
    "from DBcm import UseDatabase"
   ]
  },
  {
   "cell_type": "code",
   "execution_count": 9,
   "metadata": {
    "collapsed": true
   },
   "outputs": [],
   "source": [
    "import DBcm"
   ]
  },
  {
   "cell_type": "code",
   "execution_count": 10,
   "metadata": {
    "collapsed": true
   },
   "outputs": [],
   "source": [
    "config = { 'host': '127.0.0.1',\n",
    "           'user': 'kavya',\n",
    "           'password': 'kavya',\n",
    "           'database': 'president' }"
   ]
  },
  {
   "cell_type": "markdown",
   "metadata": {},
   "source": [
    "##### Creating the table for presidents who died in office."
   ]
  },
  {
   "cell_type": "raw",
   "metadata": {},
   "source": [
    "create table Question1(Presidentname varchar(80), \n",
    "                       DiedinOffice varchar(10), \n",
    "                       Died_on varchar(32));"
   ]
  },
  {
   "cell_type": "markdown",
   "metadata": {},
   "source": [
    "#### Inserting row_items into table 'Question1'"
   ]
  },
  {
   "cell_type": "code",
   "execution_count": 282,
   "metadata": {
    "collapsed": true
   },
   "outputs": [],
   "source": [
    "with UseDatabase(config) as cursor:\n",
    "    SQL = \"\"\"insert into Question1 \n",
    "             (Presidentname, DiedinOffice, Died_on)\n",
    "             values\n",
    "             (%s, %s, %s)\"\"\"\n",
    "    for row in datatotable1:\n",
    "        cursor.execute(SQL, row)"
   ]
  },
  {
   "cell_type": "markdown",
   "metadata": {},
   "source": [
    "#### Query 1) To find out how many died in office."
   ]
  },
  {
   "cell_type": "code",
   "execution_count": 11,
   "metadata": {},
   "outputs": [
    {
     "name": "stdout",
     "output_type": "stream",
     "text": [
      "[(8,)]\n",
      "8 presidents died in office.\n"
     ]
    }
   ],
   "source": [
    "with UseDatabase(config) as cursor:\n",
    "    _SQL = \"select count(*)  from Question1 where DiedinOffice = 'Yes';\"\n",
    "    cursor.execute(_SQL)\n",
    "    data = cursor.fetchall()\n",
    "    print(data)\n",
    "    print(data[0][0],\"presidents died in office.\")"
   ]
  },
  {
   "cell_type": "raw",
   "metadata": {},
   "source": [
    "mysql> select count(*)  from Question1 where DiedinOffice = 'Yes';\n",
    "+----------+\n",
    "| count(*) |\n",
    "+----------+\n",
    "|        8 |\n",
    "+----------+\n",
    "1 row in set (0.00 sec)"
   ]
  },
  {
   "cell_type": "markdown",
   "metadata": {},
   "source": [
    "#### Query 2)To find out the President's name and their death date who died in office."
   ]
  },
  {
   "cell_type": "code",
   "execution_count": 283,
   "metadata": {},
   "outputs": [
    {
     "name": "stdout",
     "output_type": "stream",
     "text": [
      "[('William Henry Harrison', 'April 4, 1841'), ('Zachary Taylor', 'July 9, 1850'), ('Abraham Lincoln', 'April 15, 1865'), ('James A. Garfield', 'September 19, 1881'), ('William McKinley', 'September 14, 1901'), ('Warren G. Harding', 'August 2, 1923'), ('Franklin D. Roosevelt', 'April 12, 1945'), ('John F. Kennedy', 'November 22, 1963')]\n"
     ]
    }
   ],
   "source": [
    "with UseDatabase(config) as cursor:\n",
    "    _SQL = \"select Presidentname,Died_on from Question1 where DiedinOffice = 'Yes';\"\n",
    "    cursor.execute(_SQL)\n",
    "    data = cursor.fetchall()\n",
    "    print(data)\n",
    "    "
   ]
  },
  {
   "cell_type": "raw",
   "metadata": {},
   "source": [
    "select Presidentname,Died_on from Question1 where DiedinOffice = 'Yes';\n",
    "\n",
    "+------------------------+--------------------+\n",
    "| Presidentname          | Died_on            |\n",
    "+------------------------+--------------------+\n",
    "| William Henry Harrison | April 4, 1841      |\n",
    "| Zachary Taylor         | July 9, 1850       |\n",
    "| Abraham Lincoln        | April 15, 1865     |\n",
    "| James A. Garfield      | September 19, 1881 |\n",
    "| William McKinley       | September 14, 1901 |\n",
    "| Warren G. Harding      | August 2, 1923     |\n",
    "| Franklin D. Roosevelt  | April 12, 1945     |\n",
    "| John F. Kennedy        | November 22, 1963  |\n",
    "+------------------------+--------------------+"
   ]
  },
  {
   "cell_type": "markdown",
   "metadata": {},
   "source": [
    "## Question 2 - How many Presidents resigned the presidency? Identify them by name, and provide the date of their resignation.\n"
   ]
  },
  {
   "cell_type": "markdown",
   "metadata": {},
   "source": [
    "Strategy -I have picked up the text \"(Resigned from ofice)\" from 2nd column(Startterm and endterm) to identify Presidents who Resigned from office. From the rows picked, if \"(Resigned from ofice)\" is found in 2nd column then 'Yes' is printed. "
   ]
  },
  {
   "cell_type": "code",
   "execution_count": 284,
   "metadata": {
    "collapsed": true
   },
   "outputs": [],
   "source": [
    "datatotable2 = []\n",
    "\n",
    "start_row = 2\n",
    "for row in range(start_row, len(table_rows)):\n",
    "    data_items = table_rows[row].select('td')\n",
    "    try:\n",
    "        Presidentname = data_items[3].find('a').text\n",
    "        Resigned = data_items[1].find('a').text\n",
    "        Resigned_on = data_items[1].select('span')[1].text\n",
    "    except:\n",
    "        continue\n",
    "\n",
    "    try:\n",
    "        if 'Resigned from office' in Resigned:\n",
    "            Resigned = 'Yes' #if 'Resigned' is found in first column then printing 'Yes'\n",
    "        else:\n",
    "            Resigned = 'No'\n",
    "    except:\n",
    "        continue\n",
    "    \n",
    "    datatotable2.append((Presidentname, \n",
    "                       Resigned,\n",
    "                       Resigned_on))   "
   ]
  },
  {
   "cell_type": "code",
   "execution_count": 285,
   "metadata": {},
   "outputs": [
    {
     "data": {
      "text/plain": [
       "[('George Washington', 'No', 'March 4, 1797'),\n",
       " ('John Tyler', 'No', 'March 4, 1845'),\n",
       " ('Millard Fillmore', 'No', 'March 4, 1853'),\n",
       " ('Abraham Lincoln', 'No', 'April 15, 1865'),\n",
       " ('James A. Garfield', 'No', 'September 19, 1881'),\n",
       " ('Chester A. Arthur', 'No', 'March 4, 1885'),\n",
       " ('William McKinley', 'No', 'September 14, 1901'),\n",
       " ('Calvin Coolidge', 'No', 'March 4, 1929'),\n",
       " ('John F. Kennedy', 'No', 'November 22, 1963'),\n",
       " ('Richard Nixon', 'Yes', 'August 9, 1974')]"
      ]
     },
     "execution_count": 285,
     "metadata": {},
     "output_type": "execute_result"
    }
   ],
   "source": [
    "datatotable2"
   ]
  },
  {
   "cell_type": "markdown",
   "metadata": {},
   "source": [
    "#### Creating table for Presidents who resigned from office."
   ]
  },
  {
   "cell_type": "raw",
   "metadata": {},
   "source": [
    "Create table Question2 (Presidentname varchar(80),\n",
    "                        Resigned varchar(10),\n",
    "                        Resigned_on varchar(32));"
   ]
  },
  {
   "cell_type": "markdown",
   "metadata": {},
   "source": [
    "#### Inserting row items into table 'Question2'"
   ]
  },
  {
   "cell_type": "code",
   "execution_count": 286,
   "metadata": {
    "collapsed": true
   },
   "outputs": [],
   "source": [
    "with UseDatabase(config) as cursor:\n",
    "    SQL = \"\"\"insert into Question2 \n",
    "             (Presidentname,Resigned,Resigned_on)\n",
    "             values\n",
    "             (%s, %s, %s)\"\"\"\n",
    "    for row in datatotable2:\n",
    "        cursor.execute(SQL, row)"
   ]
  },
  {
   "cell_type": "markdown",
   "metadata": {},
   "source": [
    "#### Query 1)How many Presidents Resigned from office."
   ]
  },
  {
   "cell_type": "code",
   "execution_count": 287,
   "metadata": {},
   "outputs": [
    {
     "name": "stdout",
     "output_type": "stream",
     "text": [
      "[(1,)]\n",
      "1 President resigned from office\n"
     ]
    }
   ],
   "source": [
    "with UseDatabase(config) as cursor:\n",
    "    _SQL = \"select count(Resigned) from Question2 where Resigned = 'Yes'\"\n",
    "    cursor.execute(_SQL)\n",
    "    data = cursor.fetchall()\n",
    "    print(data)\n",
    "    print(data[0][0],\"President resigned from office\")"
   ]
  },
  {
   "cell_type": "raw",
   "metadata": {},
   "source": [
    "mysql> select count(Resigned) from Question2 where Resigned = 'Yes';\n",
    "+-----------------+\n",
    "| count(Resigned) |\n",
    "+-----------------+\n",
    "|               1 |\n",
    "+-----------------+\n",
    "1 row in set (0.00 sec)"
   ]
  },
  {
   "cell_type": "markdown",
   "metadata": {},
   "source": [
    "#### Query 2)Name of the President who resigned from office and their resigned date."
   ]
  },
  {
   "cell_type": "code",
   "execution_count": 30,
   "metadata": {},
   "outputs": [
    {
     "name": "stdout",
     "output_type": "stream",
     "text": [
      "[('Richard Nixon', 'Yes', 'August 9, 1974')]\n",
      "Richard Nixon resigned the office on August 9, 1974\n"
     ]
    }
   ],
   "source": [
    "with UseDatabase(config) as cursor:\n",
    "    _SQL = \"select * from Question2 where Resigned = 'Yes'\"\n",
    "    cursor.execute(_SQL)\n",
    "    data = cursor.fetchall()\n",
    "    print(data)\n",
    "    print(data[0][0],\"resigned the office on\",data[0][2])"
   ]
  },
  {
   "cell_type": "raw",
   "metadata": {},
   "source": [
    "mysql> select * from Question2 where Resigned = 'Yes';\n",
    "+---------------+----------+----------------+\n",
    "| Presidentname | Resigned | Resigned_on    |\n",
    "+---------------+----------+----------------+\n",
    "| Richard Nixon | Yes      | August 9, 1974 |\n",
    "+---------------+----------+----------------+\n",
    "1 row in set (0.00 sec)\n"
   ]
  },
  {
   "cell_type": "markdown",
   "metadata": {},
   "source": [
    "## Question3 - How many Presidents previously held the office of Vice-President? Identify them by name,and identify the name(s) of the President(s) they were Vice-President to.\n",
    "                                   "
   ]
  },
  {
   "cell_type": "markdown",
   "metadata": {
    "collapsed": true
   },
   "source": [
    "strategy- I have picked up the text \"(Vice President)\" from 5th column(Prior Office) to identify Presidents who Previously held the office of Vice President. From the rows picked, if \"Vice President\" is found in 5th column then 'Yes' is printed. "
   ]
  },
  {
   "cell_type": "code",
   "execution_count": 169,
   "metadata": {
    "collapsed": true
   },
   "outputs": [],
   "source": [
    "datatotable3a = []\n",
    "\n",
    "start_row = 2\n",
    "for row in range(start_row, len(table_rows)):\n",
    "    data_items = table_rows[row].select('td')\n",
    "    try:\n",
    "        PriorOffice = data_items[4].text\n",
    "        PrevVPname = data_items[3].find('a').text\n",
    "    except:\n",
    "        continue\n",
    "    try:\n",
    "        \n",
    "        if 'Vice President' in PriorOffice:\n",
    "            PrevVP = 'Yes'\n",
    "        else:\n",
    "            PrevVP = 'No'\n",
    "    except:\n",
    "        continue\n",
    "        \n",
    "    datatotable3a.append((PrevVPname,PrevVP))\n",
    "                          "
   ]
  },
  {
   "cell_type": "code",
   "execution_count": 170,
   "metadata": {},
   "outputs": [
    {
     "data": {
      "text/plain": [
       "[('George Washington', 'No'),\n",
       " ('John Adams', 'Yes'),\n",
       " ('Thomas Jefferson', 'Yes'),\n",
       " ('James Madison', 'No'),\n",
       " ('James Monroe', 'No'),\n",
       " ('John Quincy Adams', 'No'),\n",
       " ('Andrew Jackson', 'No'),\n",
       " ('Martin Van Buren', 'Yes'),\n",
       " ('William Henry Harrison', 'No'),\n",
       " ('John Tyler', 'Yes'),\n",
       " ('James K. Polk', 'No'),\n",
       " ('Zachary Taylor', 'No'),\n",
       " ('Millard Fillmore', 'Yes'),\n",
       " ('Franklin Pierce', 'No'),\n",
       " ('James Buchanan', 'No'),\n",
       " ('Abraham Lincoln', 'No'),\n",
       " ('Andrew Johnson', 'Yes'),\n",
       " ('Ulysses S. Grant', 'No'),\n",
       " ('Rutherford B. Hayes', 'No'),\n",
       " ('James A. Garfield', 'No'),\n",
       " ('Chester A. Arthur', 'Yes'),\n",
       " ('Grover Cleveland', 'No'),\n",
       " ('Benjamin Harrison', 'No'),\n",
       " ('Grover Cleveland', 'No'),\n",
       " ('William McKinley', 'No'),\n",
       " ('Theodore Roosevelt', 'Yes'),\n",
       " ('William Howard Taft', 'No'),\n",
       " ('Woodrow Wilson', 'No'),\n",
       " ('Warren G. Harding', 'No'),\n",
       " ('Calvin Coolidge', 'Yes'),\n",
       " ('Herbert Hoover', 'No'),\n",
       " ('Franklin D. Roosevelt', 'No'),\n",
       " ('Harry S. Truman', 'Yes'),\n",
       " ('Dwight D. Eisenhower', 'No'),\n",
       " ('John F. Kennedy', 'No'),\n",
       " ('Lyndon B. Johnson', 'Yes'),\n",
       " ('Richard Nixon', 'Yes'),\n",
       " ('Gerald Ford', 'Yes'),\n",
       " ('Jimmy Carter', 'No'),\n",
       " ('Ronald Reagan', 'No'),\n",
       " ('George H. W. Bush', 'Yes'),\n",
       " ('Bill Clinton', 'No'),\n",
       " ('George W. Bush', 'No'),\n",
       " ('Barack Obama', 'No'),\n",
       " ('Donald Trump', 'No')]"
      ]
     },
     "execution_count": 170,
     "metadata": {},
     "output_type": "execute_result"
    }
   ],
   "source": [
    "datatotable3a"
   ]
  },
  {
   "cell_type": "markdown",
   "metadata": {},
   "source": [
    "#### Creating the table for Presidents who previousy held the office of Vice President."
   ]
  },
  {
   "cell_type": "raw",
   "metadata": {},
   "source": [
    "Create table Question3a (PrevVPname varchar(80),PrevVP varchar(10));"
   ]
  },
  {
   "cell_type": "markdown",
   "metadata": {},
   "source": [
    "#### Inserting the rowitems in table 'Question3a'"
   ]
  },
  {
   "cell_type": "code",
   "execution_count": 290,
   "metadata": {
    "collapsed": true
   },
   "outputs": [],
   "source": [
    "with UseDatabase(config) as cursor:\n",
    "    SQL = \"\"\"insert into Question3a \n",
    "             (PrevVPname,PrevVP)\n",
    "             values\n",
    "             (%s, %s)\"\"\"\n",
    "    for row in datatotable3a:\n",
    "        cursor.execute(SQL, row)"
   ]
  },
  {
   "cell_type": "markdown",
   "metadata": {},
   "source": [
    "#### Query 1)How many Presidents previously held the office of Vice President."
   ]
  },
  {
   "cell_type": "code",
   "execution_count": 971,
   "metadata": {},
   "outputs": [
    {
     "name": "stdout",
     "output_type": "stream",
     "text": [
      "[(14,)]\n",
      "14 Presidents previously held the office of Vice President\n"
     ]
    }
   ],
   "source": [
    "with UseDatabase(config) as cursor:\n",
    "    _SQL = \"select count(PrevVP) from Question3a where PrevVP = 'Yes'\"\n",
    "    cursor.execute(_SQL)\n",
    "    data = cursor.fetchall()\n",
    "    print(data)\n",
    "    print(data[0][0],\"Presidents previously held the office of Vice President\")"
   ]
  },
  {
   "cell_type": "raw",
   "metadata": {},
   "source": [
    "mysql> select count(PrevVP) from Question3a where PrevVP = 'Yes';\n",
    "+---------------+\n",
    "| count(PrevVP) |\n",
    "+---------------+\n",
    "|            14 |\n",
    "+---------------+\n",
    "1 row in set (0.00 sec)"
   ]
  },
  {
   "cell_type": "markdown",
   "metadata": {},
   "source": [
    "#### Query 2)President'S Names who previously held the oddice of Vice President."
   ]
  },
  {
   "cell_type": "code",
   "execution_count": 291,
   "metadata": {},
   "outputs": [
    {
     "name": "stdout",
     "output_type": "stream",
     "text": [
      "[('John Adams',), ('Thomas Jefferson',), ('Martin Van Buren',), ('John Tyler',), ('Millard Fillmore',), ('Andrew Johnson',), ('Chester A. Arthur',), ('Theodore Roosevelt',), ('Calvin Coolidge',), ('Harry S. Truman',), ('Lyndon B. Johnson',), ('Richard Nixon',), ('Gerald Ford',), ('George H. W. Bush',)]\n"
     ]
    }
   ],
   "source": [
    "with UseDatabase(config) as cursor:\n",
    "    _SQL = \"select PrevVPname from Question3a where PrevVP = 'Yes'\"\n",
    "    cursor.execute(_SQL)\n",
    "    data = cursor.fetchall()\n",
    "    print(data)"
   ]
  },
  {
   "cell_type": "raw",
   "metadata": {},
   "source": [
    "mysql> select PrevVPname from Question3a where PrevVP = 'Yes';\n",
    "+--------------------+\n",
    "| PrevVPname         |\n",
    "+--------------------+\n",
    "| John Adams         |\n",
    "| Thomas Jefferson   |\n",
    "| Martin Van Buren   |\n",
    "| John Tyler         |\n",
    "| Millard Fillmore   |\n",
    "| Andrew Johnson     |\n",
    "| Chester A. Arthur  |\n",
    "| Theodore Roosevelt |\n",
    "| Calvin Coolidge    |\n",
    "| Harry S. Truman    |\n",
    "| Lyndon B. Johnson  |\n",
    "| Richard Nixon      |\n",
    "| Gerald Ford        |\n",
    "| George H. W. Bush  |\n",
    "+--------------------+\n",
    "14 rows in set (0.00 sec)"
   ]
  },
  {
   "cell_type": "markdown",
   "metadata": {},
   "source": [
    "#### To answer the second half of Question3 ie. to identify the name(s) of the President(s) they were Vice-President to."
   ]
  },
  {
   "cell_type": "raw",
   "metadata": {},
   "source": [
    "Strategy - After “clicking” on the link associated with each President and finding the text 'President' in 'th' and finding the text of next 'td' or 'a', scraping the name of the Presidents to all the above 14 VicePresidents."
   ]
  },
  {
   "cell_type": "code",
   "execution_count": 172,
   "metadata": {
    "collapsed": true
   },
   "outputs": [],
   "source": [
    "def determine_pres_VP(url):\n",
    "    pres_resp = requests.get(url)\n",
    "    soup = BeautifulSoup(pres_resp.text, 'lxml')\n",
    "    pres_table_rows = soup.select('table')\n",
    "    \n",
    "    Pname = 'Unknown'\n",
    "    Pname = soup.findAll('p')\n",
    "    \n",
    "     \n",
    "    if VPname in ['John Tyler','Millard Fillmore','Theodore Roosevelt','Calvin Coolidge','Gerald Ford','Andrew Johnson']:\n",
    "        Pname = soup.find(text=\"President\").findNext('td').text # finding the 'td' for the header 'President'\n",
    "    elif VPname in ['Jimmy Carter','Ronald Reagan','George W. Bush','Bill Clinton','Barack Obama','Donald Trump']:\n",
    "        Pname = 'none' # there are no Presidents for the above VicePresidents so assigning 'none'\n",
    "    else:\n",
    "        Pname = soup.find(text=\"President\").findNext('a').text # finding the 'a' for the header 'President'\n",
    "    \n",
    "    return(Pname)"
   ]
  },
  {
   "cell_type": "code",
   "execution_count": 173,
   "metadata": {
    "collapsed": true
   },
   "outputs": [],
   "source": [
    "datatotable3b = []\n",
    "\n",
    "start_row = 2\n",
    "for row in range(start_row, len(table_rows)):\n",
    "    data_items = table_rows[row].select('td')\n",
    "    try:\n",
    "        VPname = data_items[3].find('a').text\n",
    "    except:\n",
    "        continue \n",
    "    if VPname in ['George Washington', 'Donald Trump', 'John Tyler', 'Millard Fillmore', 'Abraham Lincoln', 'Chester A. Arthur', 'William McKinley', 'Calvin Coolidge', 'John F. Kennedy', 'Richard Nixon']:\n",
    "        which_anchor = 3\n",
    "    elif VPname in ['William Henry Harrison', 'Zachary Taylor']:\n",
    "        which_anchor = 1\n",
    "    else:\n",
    "        which_anchor = 2\n",
    "    more_details = BASE_URL+table_rows[row].select('a')[which_anchor].attrs['href']\n",
    "    Pname = determine_pres_VP(more_details)\n",
    "    \n",
    "    datatotable3b.append((VPname,Pname))"
   ]
  },
  {
   "cell_type": "code",
   "execution_count": 174,
   "metadata": {},
   "outputs": [
    {
     "data": {
      "text/plain": [
       "[('George Washington', 'George Washington'),\n",
       " ('John Adams', 'George Washington'),\n",
       " ('Thomas Jefferson', 'John Adams'),\n",
       " ('James Madison', 'Thomas Jefferson'),\n",
       " ('James Monroe', 'James Madison'),\n",
       " ('John Quincy Adams', 'James Monroe'),\n",
       " ('Andrew Jackson', 'Vice President'),\n",
       " ('Martin Van Buren', 'Andrew Jackson'),\n",
       " ('William Henry Harrison', 'John Quincy Adams'),\n",
       " ('John Tyler', 'William Henry Harrison'),\n",
       " ('James K. Polk', 'Andrew Jackson'),\n",
       " ('Zachary Taylor', 'Vice President'),\n",
       " ('Millard Fillmore', 'Zachary Taylor'),\n",
       " ('Franklin Pierce', 'Vice President'),\n",
       " ('James Buchanan', 'Joseph Reed Ingersoll'),\n",
       " ('Abraham Lincoln', 'Vice President'),\n",
       " ('Andrew Johnson', 'Abraham Lincoln'),\n",
       " ('Ulysses S. Grant', 'Abraham Lincoln'),\n",
       " ('Rutherford B. Hayes', 'Vice President'),\n",
       " ('James A. Garfield', 'Vice President'),\n",
       " ('Chester A. Arthur', 'James A. Garfield'),\n",
       " ('Grover Cleveland', 'Vice President'),\n",
       " ('Benjamin Harrison', 'William Henry Harrison'),\n",
       " ('Grover Cleveland', 'Vice President'),\n",
       " ('William McKinley', 'Vice President'),\n",
       " ('Theodore Roosevelt', 'William McKinley'),\n",
       " ('William Howard Taft', 'Elihu Root'),\n",
       " ('Woodrow Wilson', 'Vice President'),\n",
       " ('Warren G. Harding', 'Vice President'),\n",
       " ('Calvin Coolidge', 'Warren G. Harding'),\n",
       " ('Herbert Hoover', 'Warren G. Harding'),\n",
       " ('Franklin D. Roosevelt', 'Woodrow Wilson'),\n",
       " ('Harry S. Truman', 'Franklin D. Roosevelt'),\n",
       " ('Dwight D. Eisenhower', 'Harry S. Truman'),\n",
       " ('John F. Kennedy', 'Dwight D. Eisenhower'),\n",
       " ('Lyndon B. Johnson', 'John F. Kennedy'),\n",
       " ('Richard Nixon', 'Dwight D. Eisenhower'),\n",
       " ('Gerald Ford', 'Richard Nixon'),\n",
       " ('Jimmy Carter', 'none'),\n",
       " ('Ronald Reagan', 'none'),\n",
       " ('George H. W. Bush', 'Ronald Reagan'),\n",
       " ('Bill Clinton', 'none'),\n",
       " ('George W. Bush', 'none'),\n",
       " ('Barack Obama', 'none'),\n",
       " ('Donald Trump', 'none')]"
      ]
     },
     "execution_count": 174,
     "metadata": {},
     "output_type": "execute_result"
    }
   ],
   "source": [
    "datatotable3b"
   ]
  },
  {
   "cell_type": "markdown",
   "metadata": {},
   "source": [
    "#### Creating a table to fetch the name of Presidents of Vice Presidents"
   ]
  },
  {
   "cell_type": "raw",
   "metadata": {},
   "source": [
    "Create table Question3b (VPname varchar(80),\n",
    "                         Pname varchar(80));"
   ]
  },
  {
   "cell_type": "markdown",
   "metadata": {},
   "source": [
    "#### Inserting the row items in table3b."
   ]
  },
  {
   "cell_type": "code",
   "execution_count": 175,
   "metadata": {
    "collapsed": true
   },
   "outputs": [],
   "source": [
    "with UseDatabase(config) as cursor:\n",
    "    SQL = \"\"\"insert into Question3b \n",
    "             (VPname,Pname)\n",
    "             values\n",
    "             (%s, %s)\"\"\"\n",
    "    for row in datatotable3b:\n",
    "        cursor.execute(SQL, row)"
   ]
  },
  {
   "cell_type": "markdown",
   "metadata": {},
   "source": [
    "#### Query 3) To fetch the President name of Vice Presidents."
   ]
  },
  {
   "cell_type": "raw",
   "metadata": {},
   "source": [
    "\n",
    "(Here I am joining tables 'Question3a' and 'Question3b' where PrevVPname in 'Question3a' and VPname in 'Question3b' is common)\n",
    "PrevVPname - Name of the President who previously held the office of VicePresident.\n",
    "VPname - Name of the VicePresident.\n",
    "Pname - Name of the President of the corresponding VicePresident."
   ]
  },
  {
   "cell_type": "raw",
   "metadata": {
    "collapsed": true
   },
   "source": [
    "mysql> select VP.VPname,VP.Pname from Question3a P inner join Question3b VP on P.PrevVPname = VP.VPname where P.PrevVP = 'Yes';\n",
    "+--------------------+------------------------+\n",
    "| VPname             | Pname                  |\n",
    "+--------------------+------------------------+\n",
    "| John Adams         | George Washington      |\n",
    "| Thomas Jefferson   | John Adams             |\n",
    "| Martin Van Buren   | Andrew Jackson         |\n",
    "| John Tyler         | William Henry Harrison |\n",
    "| Millard Fillmore   | Zachary Taylor         |\n",
    "| Andrew Johnson     | Abraham Lincoln        |\n",
    "| Chester A. Arthur  | James A. Garfield      |\n",
    "| Theodore Roosevelt | William McKinley       |\n",
    "| Calvin Coolidge    | Warren G. Harding      |\n",
    "| Harry S. Truman    | Franklin D. Roosevelt  |\n",
    "| Lyndon B. Johnson  | John F. Kennedy        |\n",
    "| Richard Nixon      | Dwight D. Eisenhower   |\n",
    "| Gerald Ford        | Richard Nixon          |\n",
    "| George H. W. Bush  | Ronald Reagan          |\n",
    "+--------------------+------------------------+\n",
    "14 rows in set (0.00 sec)\n"
   ]
  },
  {
   "cell_type": "markdown",
   "metadata": {},
   "source": [
    "## Question4 - Calculate the total amount of time (years and months) the office of Vice-President has been vacant since the formation of the republic."
   ]
  },
  {
   "cell_type": "markdown",
   "metadata": {},
   "source": [
    "Strategy - Picked up the text 'Office Vacant' from the 9th column then calculating the startterm and endterm of office vacancy for each President after the formation of republican party(Presidents after Abraham Lincoln)"
   ]
  },
  {
   "cell_type": "code",
   "execution_count": 158,
   "metadata": {},
   "outputs": [],
   "source": [
    "import datetime\n",
    "from dateutil.relativedelta import relativedelta\n",
    "\n",
    "datatotable4 = []\n",
    "\n",
    "start_row = 2\n",
    "for row in range(start_row, len(table_rows)):\n",
    "    data_items = table_rows[row].select('td')\n",
    "    \n",
    "    try:\n",
    "        Presi = data_items[3].find('a').text\n",
    "    except:\n",
    "        continue\n",
    "        \n",
    "    if Presi in ['Chester A. Arthur']:#Vice-Presidents Office was vacant till the time he was president.\n",
    "        try:\n",
    "            Vacant_startterm = 'September 19, 1881' #Startterm of presidency = Startterm of office Vacancy\n",
    "        except:\n",
    "            continue\n",
    "        try:\n",
    "            Vacant_endterm = data_items[1].select('span')[1].text #endterm of presidency = endterm of office Vacancy\n",
    "        except:\n",
    "            continue\n",
    "            \n",
    "    elif Presi in ['Calvin Coolidge']: #Vice-Presidents Office was vacant till March 4, 1925.\n",
    "        try:\n",
    "            Vacant_startterm = data_items[1].select('span')[0].text                                                                        \n",
    "        except:\n",
    "            continue\n",
    "        Vacant_endterm = 'March 4, 1925'\n",
    "        \n",
    "    \n",
    "    elif Presi in ['Andrew Johnson']: #Vice-Presidents Office was vacant till the time he was president.\n",
    "        try:\n",
    "            Vacant_startterm = data_items[1].select('span')[0].text #Startterm of presidency = Startterm of office Vacancy\n",
    "        except:\n",
    "            continue\n",
    "        try:\n",
    "            Vacant_endterm = data_items[1].select('span')[1].text #endterm of presidency = endterm of office Vacancy\n",
    "        except:\n",
    "            continue\n",
    "        \n",
    "   \n",
    "    elif Presi in ['Ulysses S. Grant']:#Vice-Presidents Office was vacant from November 22, 1875 till the endterm.\n",
    "        Vacant_startterm = 'November 22, 1875'\n",
    "        try:\n",
    "            Vacant_endterm = data_items[1].select('span')[1].text\n",
    "        except:\n",
    "            continue\n",
    "        \n",
    "            \n",
    "    elif Presi in ['Grover Cleveland'] and data_items[1].select('span')[1].text == 'March 4, 1889': #Vice-Presidents Office was vacant from November 25, 1885 till the endterm.\n",
    "        Vacant_startterm = 'November 25, 1885'\n",
    "        try:\n",
    "            Vacant_endterm = data_items[1].select('span')[1].text\n",
    "        except:\n",
    "            continue\n",
    "            \n",
    "    elif Presi in ['William McKinley']:\n",
    "        Vacant_startterm = 'November 21, 1899'\n",
    "        Vacant_endterm = 'March 4,1901'\n",
    "        \n",
    "    elif Presi in ['Theodore Roosevelt']: #Vice-Presidents Office was vacant till March 4, 1905.\n",
    "        try:\n",
    "            Vacant_startterm = data_items[1].select('span')[0].text\n",
    "        except:\n",
    "            continue\n",
    "        Vacant_endterm = 'March 4, 1905'\n",
    "        \n",
    "    elif Presi in ['William Howard Taft']: #Vice-Presidents Office was vacant from October 30, 1912.\n",
    "        Vacant_startterm = 'October 30, 1912'\n",
    "        try:\n",
    "            Vacant_endterm = data_items[1].select('span')[1].text\n",
    "        except:\n",
    "            continue\n",
    "        \n",
    "    elif Presi in ['Harry S. Truman']: #Vice-Presidents Office was vacant till January 20, 1949.\n",
    "        try:\n",
    "            Vacant_startterm = data_items[1].select('span')[0].text\n",
    "        except:\n",
    "            continue\n",
    "        Vacant_endterm = 'January 20, 1949'\n",
    "        \n",
    "    elif Presi in ['Lyndon B. Johnson']: #Vice-Presidents Office was vacant till January 20, 1965.\n",
    "        try:\n",
    "            Vacant_startterm = data_items[1].select('span')[0].text\n",
    "        except:\n",
    "            continue\n",
    "        Vacant_endterm = 'January 20, 1965'\n",
    "        \n",
    "    elif Presi in ['Richard Nixon']: #Vice-Presidents Office was vacant from October 10, 1973 till December 6, 1973.\n",
    "        Vacant_startterm = 'October 10, 1973'\n",
    "        Vacant_endterm = 'December 6, 1973'\n",
    "        \n",
    "    elif Presi in ['William McKinley']:\n",
    "        try:\n",
    "            Vacant_startterm = 'November 21, 1899'\n",
    "            Vacant_endterm = 'March 4,1901'\n",
    "        except:\n",
    "            continue\n",
    "        \n",
    "    elif Presi in ['Gerald Ford']:#Vice-Presidents Office was vacant till December 19, 1974.\n",
    "        try:\n",
    "            Vacant_startterm = data_items[1].select('span')[0].text\n",
    "        except:\n",
    "            continue\n",
    "        Vacant_endterm = 'December 19, 1974'\n",
    "        \n",
    "    else: # Vice-Presidents office wasnt vacant.\n",
    "        Vacant_startterm = 'Not Vacant'\n",
    "        Vacant_endterm = 'Not Vacant'\n",
    "        #pass\n",
    "        \n",
    "        \n",
    "    try: # Relativedelta function to convert years and months to days.\n",
    "        Start_Term = Vacant_startterm\n",
    "        End_Term = Vacant_endterm\n",
    "\n",
    "        def datestr2int(date_str):\n",
    "            return datetime.datetime.strptime(date_str, '%B %d, %Y')\n",
    "        \n",
    "\n",
    "        Start = datestr2int(Start_Term)\n",
    "        End = datestr2int(End_Term)\n",
    "        Vacant= End - Start\n",
    "    except:\n",
    "        continue\n",
    "        \n",
    "   \n",
    "    datatotable4.append((Vacant.days))"
   ]
  },
  {
   "cell_type": "code",
   "execution_count": 159,
   "metadata": {},
   "outputs": [
    {
     "data": {
      "text/plain": [
       "[1419, 468, 1262, 1195, 1267, 125, 1379, 425, 57, 132]"
      ]
     },
     "execution_count": 159,
     "metadata": {},
     "output_type": "execute_result"
    }
   ],
   "source": [
    "datatotable4"
   ]
  },
  {
   "cell_type": "markdown",
   "metadata": {},
   "source": [
    "#### To get the total number of days the office was vacant."
   ]
  },
  {
   "cell_type": "code",
   "execution_count": 160,
   "metadata": {},
   "outputs": [
    {
     "data": {
      "text/plain": [
       "7729"
      ]
     },
     "execution_count": 160,
     "metadata": {},
     "output_type": "execute_result"
    }
   ],
   "source": [
    "TotalVacant = sum(datatotable4)\n",
    "TotalVacant"
   ]
  },
  {
   "cell_type": "code",
   "execution_count": 155,
   "metadata": {
    "collapsed": true
   },
   "outputs": [],
   "source": [
    "Vacant= 7729/365"
   ]
  },
  {
   "cell_type": "code",
   "execution_count": 134,
   "metadata": {},
   "outputs": [
    {
     "data": {
      "text/plain": [
       "21.175342465753424"
      ]
     },
     "execution_count": 134,
     "metadata": {},
     "output_type": "execute_result"
    }
   ],
   "source": [
    "Vacant "
   ]
  },
  {
   "cell_type": "raw",
   "metadata": {},
   "source": [
    "The Office was vacant for 21 years and 2 months."
   ]
  },
  {
   "cell_type": "markdown",
   "metadata": {},
   "source": [
    "## Question 5 - Identify the youngest serving President. At what age did they become President?"
   ]
  },
  {
   "cell_type": "raw",
   "metadata": {
    "collapsed": true
   },
   "source": [
    "Strategy- Finding the differnce between the President's Birth year and President's Start-term to find the age at which President joined the Presidency."
   ]
  },
  {
   "cell_type": "code",
   "execution_count": 13,
   "metadata": {
    "collapsed": true
   },
   "outputs": [],
   "source": [
    "import datetime\n",
    "from dateutil.relativedelta import relativedelta\n",
    "\n",
    "datatotable5 = []\n",
    "\n",
    "start_row = 2\n",
    "for row in range(start_row, len(table_rows)):\n",
    "    data_items = table_rows[row].select('td')\n",
    "    try:\n",
    "        start_term = data_items[1].select('span')[0].text.split('\\n')[0]\n",
    "    except:\n",
    "        # Franklin D. Roosevelt is formatted differently.\n",
    "        try:\n",
    "            start_term = data_items[1].text.split('\\n')[0]\n",
    "        except:\n",
    "            continue\n",
    "    start_term_year = start_term[-4:]\n",
    "    try:\n",
    "        year_of_birth = data_items[3].text.split('\\n')[1][:4] # birthyear\n",
    "        if 'Born' in data_items[3].text:    # a special case if the President is still alive\n",
    "            year_of_birth = data_items[3].text.split('\\n')[1][-4:]\n",
    "    except:\n",
    "        continue\n",
    "    \n",
    "    try:\n",
    "        PreName = data_items[3].find('a').text\n",
    "    except:\n",
    "        continue\n",
    "        \n",
    "        \n",
    "    try: # Relativedelta function to convert string into integer and finding the differnce.\n",
    "        bday= year_of_birth\n",
    "        start= start_term_year\n",
    "\n",
    "        def datestr2int(date_str):\n",
    "            return datetime.datetime.strptime(date_str, '%Y')\n",
    "\n",
    "        bdayint = datestr2int(bday)\n",
    "        startint = datestr2int(start)\n",
    "\n",
    "        Pyears=relativedelta(startint,bdayint)\n",
    "    except:\n",
    "        continue\n",
    "    \n",
    "        \n",
    "    datatotable5.append((PreName,Pyears.years))"
   ]
  },
  {
   "cell_type": "code",
   "execution_count": 14,
   "metadata": {},
   "outputs": [
    {
     "data": {
      "text/plain": [
       "[('George Washington', 57),\n",
       " ('John Adams', 62),\n",
       " ('Thomas Jefferson', 58),\n",
       " ('James Madison', 58),\n",
       " ('James Monroe', 59),\n",
       " ('John Quincy Adams', 58),\n",
       " ('Andrew Jackson', 62),\n",
       " ('Martin Van Buren', 55),\n",
       " ('William Henry Harrison', 68),\n",
       " ('John Tyler', 51),\n",
       " ('James K. Polk', 50),\n",
       " ('Zachary Taylor', 65),\n",
       " ('Millard Fillmore', 50),\n",
       " ('Franklin Pierce', 49),\n",
       " ('James Buchanan', 66),\n",
       " ('Abraham Lincoln', 52),\n",
       " ('Andrew Johnson', 57),\n",
       " ('Ulysses S. Grant', 47),\n",
       " ('Rutherford B. Hayes', 55),\n",
       " ('James A. Garfield', 50),\n",
       " ('Chester A. Arthur', 52),\n",
       " ('Grover Cleveland', 48),\n",
       " ('Benjamin Harrison', 56),\n",
       " ('Grover Cleveland', 56),\n",
       " ('William McKinley', 54),\n",
       " ('Theodore Roosevelt', 43),\n",
       " ('William Howard Taft', 52),\n",
       " ('Woodrow Wilson', 57),\n",
       " ('Warren G. Harding', 56),\n",
       " ('Calvin Coolidge', 51),\n",
       " ('Herbert Hoover', 55),\n",
       " ('Franklin D. Roosevelt', 51),\n",
       " ('Harry S. Truman', 61),\n",
       " ('Dwight D. Eisenhower', 63),\n",
       " ('John F. Kennedy', 44),\n",
       " ('Lyndon B. Johnson', 55),\n",
       " ('Richard Nixon', 56),\n",
       " ('Gerald Ford', 61),\n",
       " ('Jimmy Carter', 53),\n",
       " ('Ronald Reagan', 70),\n",
       " ('George H. W. Bush', 65),\n",
       " ('Bill Clinton', 47),\n",
       " ('George W. Bush', 55),\n",
       " ('Barack Obama', 48),\n",
       " ('Donald Trump', 71)]"
      ]
     },
     "execution_count": 14,
     "metadata": {},
     "output_type": "execute_result"
    }
   ],
   "source": [
    "\n",
    "datatotable5"
   ]
  },
  {
   "cell_type": "markdown",
   "metadata": {},
   "source": [
    "#### Creating the table for to find the age of all Presidents"
   ]
  },
  {
   "cell_type": "markdown",
   "metadata": {},
   "source": [
    "Create table Question5 (PreName varchar(80),Pyears varchar(10));"
   ]
  },
  {
   "cell_type": "markdown",
   "metadata": {},
   "source": [
    "#### Inserting the row items into table Question5"
   ]
  },
  {
   "cell_type": "code",
   "execution_count": 15,
   "metadata": {},
   "outputs": [],
   "source": [
    "with UseDatabase(config) as cursor:\n",
    "    SQL = \"\"\"insert into Question5 \n",
    "             (PreName,Pyears)\n",
    "             values\n",
    "             (%s, %s)\"\"\"\n",
    "    for row in datatotable5:\n",
    "        cursor.execute(SQL, row)"
   ]
  },
  {
   "cell_type": "markdown",
   "metadata": {},
   "source": [
    "#### Query 1)To find the president whose age is least"
   ]
  },
  {
   "cell_type": "code",
   "execution_count": 19,
   "metadata": {},
   "outputs": [
    {
     "name": "stdout",
     "output_type": "stream",
     "text": [
      "[('43',)]\n"
     ]
    }
   ],
   "source": [
    "with UseDatabase(config) as cursor:\n",
    "    _SQL = \"select min(Pyears) from Question5 ;\"\n",
    "    cursor.execute(_SQL)\n",
    "    data = cursor.fetchall()\n",
    "    print(data)"
   ]
  },
  {
   "cell_type": "raw",
   "metadata": {},
   "source": [
    "select min(Pyears) as YoungestPresident from Question5;\n",
    "+-------------------+\n",
    "| YoungestPresident |\n",
    "+-------------------+\n",
    "| 43                |\n",
    "+-------------------+"
   ]
  },
  {
   "cell_type": "markdown",
   "metadata": {},
   "source": [
    "#### Query 2) To find the name of the Youngest Serving President"
   ]
  },
  {
   "cell_type": "code",
   "execution_count": 17,
   "metadata": {},
   "outputs": [
    {
     "name": "stdout",
     "output_type": "stream",
     "text": [
      "[('Theodore Roosevelt', '43')]\n",
      "Theodore Roosevelt is the youngest serving President\n"
     ]
    }
   ],
   "source": [
    "with UseDatabase(config) as cursor:\n",
    "    _SQL = \" select * from Question5 where Pyears = '43';\"\n",
    "    cursor.execute(_SQL)\n",
    "    data = cursor.fetchall()\n",
    "    print(data)\n",
    "    print(data[0][0],\"is the youngest serving President\")"
   ]
  },
  {
   "cell_type": "raw",
   "metadata": {},
   "source": [
    "select * from Question5 where Pyears = '43';\n",
    "+--------------------+--------+\n",
    "| PreName            | Pyears |\n",
    "+--------------------+--------+\n",
    "| Theodore Roosevelt | 43     |\n",
    "+--------------------+--------+\n"
   ]
  },
  {
   "cell_type": "markdown",
   "metadata": {},
   "source": [
    "## Question 6 - Identify the oldest serving President. At what age did they leave office (die/resign/retire)?"
   ]
  },
  {
   "cell_type": "markdown",
   "metadata": {},
   "source": [
    "#### Oldest serving President"
   ]
  },
  {
   "cell_type": "markdown",
   "metadata": {},
   "source": [
    "#### Since Donald Trump is still in presidency he cant be the oldest serving president, even though he became president at the age of 71 as shown in below query."
   ]
  },
  {
   "cell_type": "code",
   "execution_count": 168,
   "metadata": {},
   "outputs": [
    {
     "name": "stdout",
     "output_type": "stream",
     "text": [
      "[('71',)]\n"
     ]
    }
   ],
   "source": [
    "with UseDatabase(config) as cursor:\n",
    "    _SQL = \"select max(Pyears) as YoungestPresident from Question5;\"\n",
    "    cursor.execute(_SQL)\n",
    "    data = cursor.fetchall()\n",
    "    print(data)"
   ]
  },
  {
   "cell_type": "raw",
   "metadata": {},
   "source": [
    "select max(Pyears) as YoungestPresident from Question5\n",
    "+-------------------+\n",
    "| YoungestPresident |\n",
    "+-------------------+\n",
    "| 71                |\n",
    "+-------------------+"
   ]
  },
  {
   "cell_type": "code",
   "execution_count": 171,
   "metadata": {},
   "outputs": [
    {
     "name": "stdout",
     "output_type": "stream",
     "text": [
      "[('Donald Trump', '71')]\n",
      "Donald Trump is the oldest serving President\n"
     ]
    }
   ],
   "source": [
    "with UseDatabase(config) as cursor:\n",
    "    _SQL = \" select * from Question5 where Pyears = '71';\"\n",
    "    cursor.execute(_SQL)\n",
    "    data = cursor.fetchall()\n",
    "    print(data)\n",
    "    print(data[0][0],\"is the oldest serving President\")\n",
    "    "
   ]
  },
  {
   "cell_type": "raw",
   "metadata": {},
   "source": [
    "select * from Question5 where Pyears = '71';\n",
    "+--------------+--------+\n",
    "| PreName      | Pyears |\n",
    "+--------------+--------+\n",
    "| Donald Trump | 71     |\n",
    "+--------------+--------+"
   ]
  },
  {
   "cell_type": "markdown",
   "metadata": {},
   "source": [
    "#### To find the oldest serving President."
   ]
  },
  {
   "cell_type": "markdown",
   "metadata": {},
   "source": [
    "Strategy- Finding the difference between the President's Birth year and President's End-term to find the age at which President leave the Presidency."
   ]
  },
  {
   "cell_type": "code",
   "execution_count": 20,
   "metadata": {},
   "outputs": [
    {
     "name": "stdout",
     "output_type": "stream",
     "text": [
      "George Washington 65\n",
      "John Adams 66\n",
      "Thomas Jefferson 66\n",
      "James Madison 66\n",
      "James Monroe 67\n",
      "John Quincy Adams 62\n",
      "Andrew Jackson 70\n",
      "Martin Van Buren 59\n",
      "William Henry Harrison 68\n",
      "John Tyler 55\n",
      "James K. Polk 54\n",
      "Zachary Taylor 66\n",
      "Millard Fillmore 53\n",
      "Franklin Pierce 53\n",
      "James Buchanan 70\n",
      "Abraham Lincoln 56\n",
      "Andrew Johnson 61\n",
      "Ulysses S. Grant 55\n",
      "Rutherford B. Hayes 59\n",
      "James A. Garfield 50\n",
      "Chester A. Arthur 56\n",
      "Grover Cleveland 52\n",
      "Benjamin Harrison 60\n",
      "Grover Cleveland 60\n",
      "William McKinley 58\n",
      "Theodore Roosevelt 51\n",
      "William Howard Taft 56\n",
      "Woodrow Wilson 65\n",
      "Warren G. Harding 58\n",
      "Calvin Coolidge 57\n",
      "Herbert Hoover 59\n",
      "Franklin D. Roosevelt 63\n",
      "Harry S. Truman 69\n",
      "Dwight D. Eisenhower 71\n",
      "John F. Kennedy 46\n",
      "Lyndon B. Johnson 61\n",
      "Richard Nixon 61\n",
      "Gerald Ford 64\n",
      "Jimmy Carter 57\n",
      "Ronald Reagan 78\n",
      "George H. W. Bush 69\n",
      "Bill Clinton 55\n",
      "George W. Bush 63\n",
      "Barack Obama 56\n"
     ]
    }
   ],
   "source": [
    "import datetime\n",
    "from dateutil.relativedelta import relativedelta\n",
    "\n",
    "datatotable6 = []\n",
    "\n",
    "start_row = 2\n",
    "for row in range(start_row, len(table_rows)):\n",
    "    data_items = table_rows[row].select('td')\n",
    "    \n",
    "    try:\n",
    "        year_of_birth = data_items[3].text.split('\\n')[1][:4]\n",
    "        if 'Born' in data_items[3].text:   # Special case for President's who are still alive.\n",
    "            year_of_birth = data_items[3].text.split('\\n')[1][-4:]\n",
    "    except:\n",
    "        continue\n",
    "    \n",
    "    try:\n",
    "        end_term = data_items[1].select('span')[1].text\n",
    "        \n",
    "    except:\n",
    "        # Franklin D. Roosevelt's entry is formatted differently.\n",
    "        try:\n",
    "            end_term = data_items[1].text.split('\\n')[2]\n",
    "        except:\n",
    "            continue\n",
    "                \n",
    "    end_term_year = end_term[-4:]\n",
    "    \n",
    "    \n",
    "    try:\n",
    "        bday= end_term_year\n",
    "        end= year_of_birth\n",
    "\n",
    "        def datestr2int(date_str):\n",
    "            return datetime.datetime.strptime(date_str, '%Y')\n",
    "        \n",
    "\n",
    "        bdayint = datestr2int(bday)\n",
    "        endint = datestr2int(end)\n",
    "\n",
    "        Year=relativedelta(bdayint,endint) #President's birthyear - Presidency endterm\n",
    "    except:\n",
    "        continue\n",
    "        \n",
    "    try:\n",
    "        PresName = data_items[3].find('a').text\n",
    "    except:\n",
    "        continue\n",
    "    print(PresName,Year.years)\n",
    "    \n",
    "    datatotable6.append((PresName,Year.years))"
   ]
  },
  {
   "cell_type": "code",
   "execution_count": 249,
   "metadata": {},
   "outputs": [
    {
     "data": {
      "text/plain": [
       "[('George Washington', 65),\n",
       " ('John Adams', 66),\n",
       " ('Thomas Jefferson', 66),\n",
       " ('James Madison', 66),\n",
       " ('James Monroe', 67),\n",
       " ('John Quincy Adams', 62),\n",
       " ('Andrew Jackson', 70),\n",
       " ('Martin Van Buren', 59),\n",
       " ('William Henry Harrison', 68),\n",
       " ('John Tyler', 55),\n",
       " ('James K. Polk', 54),\n",
       " ('Zachary Taylor', 66),\n",
       " ('Millard Fillmore', 53),\n",
       " ('Franklin Pierce', 53),\n",
       " ('James Buchanan', 70),\n",
       " ('Abraham Lincoln', 56),\n",
       " ('Andrew Johnson', 61),\n",
       " ('Ulysses S. Grant', 55),\n",
       " ('Rutherford B. Hayes', 59),\n",
       " ('James A. Garfield', 50),\n",
       " ('Chester A. Arthur', 56),\n",
       " ('Grover Cleveland', 52),\n",
       " ('Benjamin Harrison', 60),\n",
       " ('Grover Cleveland', 60),\n",
       " ('William McKinley', 58),\n",
       " ('Theodore Roosevelt', 51),\n",
       " ('William Howard Taft', 56),\n",
       " ('Woodrow Wilson', 65),\n",
       " ('Warren G. Harding', 58),\n",
       " ('Calvin Coolidge', 57),\n",
       " ('Herbert Hoover', 59),\n",
       " ('Franklin D. Roosevelt', 63),\n",
       " ('Harry S. Truman', 69),\n",
       " ('Dwight D. Eisenhower', 71),\n",
       " ('John F. Kennedy', 46),\n",
       " ('Lyndon B. Johnson', 61),\n",
       " ('Richard Nixon', 61),\n",
       " ('Gerald Ford', 64),\n",
       " ('Jimmy Carter', 57),\n",
       " ('Ronald Reagan', 78),\n",
       " ('George H. W. Bush', 69),\n",
       " ('Bill Clinton', 55),\n",
       " ('George W. Bush', 63),\n",
       " ('Barack Obama', 56)]"
      ]
     },
     "execution_count": 249,
     "metadata": {},
     "output_type": "execute_result"
    }
   ],
   "source": [
    "datatotable6"
   ]
  },
  {
   "cell_type": "markdown",
   "metadata": {},
   "source": [
    "#### Creating table to find the oldest serving President."
   ]
  },
  {
   "cell_type": "markdown",
   "metadata": {},
   "source": [
    "Create table Question6 (PresName varchar(80),Year varchar(10));"
   ]
  },
  {
   "cell_type": "markdown",
   "metadata": {},
   "source": [
    "#### Inserting row items into table Question6"
   ]
  },
  {
   "cell_type": "code",
   "execution_count": 21,
   "metadata": {
    "collapsed": true
   },
   "outputs": [],
   "source": [
    "with UseDatabase(config) as cursor:\n",
    "    SQL = \"\"\"insert into Question6 \n",
    "             (PresName,Year)\n",
    "             values\n",
    "             (%s, %s)\"\"\"\n",
    "    for row in datatotable6:\n",
    "        cursor.execute(SQL, row)"
   ]
  },
  {
   "cell_type": "markdown",
   "metadata": {},
   "source": [
    "#### Query1) Finding the Oldest serving President"
   ]
  },
  {
   "cell_type": "code",
   "execution_count": 22,
   "metadata": {},
   "outputs": [
    {
     "name": "stdout",
     "output_type": "stream",
     "text": [
      "[('78',)]\n"
     ]
    }
   ],
   "source": [
    "with UseDatabase(config) as cursor:\n",
    "    _SQL = \"select max(Year) as OldestServing from Question6;\"\n",
    "    cursor.execute(_SQL)\n",
    "    data = cursor.fetchall()\n",
    "    print(data)"
   ]
  },
  {
   "cell_type": "raw",
   "metadata": {},
   "source": [
    "select max(Year) as OldestServing from Question6;\n",
    "+---------------+\n",
    "| OldestServing |\n",
    "+---------------+\n",
    "| 78            |\n",
    "+---------------+"
   ]
  },
  {
   "cell_type": "markdown",
   "metadata": {},
   "source": [
    "#### Query 2) Finding the name of Oldest serving President"
   ]
  },
  {
   "cell_type": "code",
   "execution_count": 200,
   "metadata": {},
   "outputs": [
    {
     "name": "stdout",
     "output_type": "stream",
     "text": [
      "[('Ronald Reagan', '78')]\n",
      "Ronald Reagan is the oldest serving President.\n"
     ]
    }
   ],
   "source": [
    "with UseDatabase(config) as cursor:\n",
    "    _SQL = \"select * from Question6 where Year = '78';\"\n",
    "    cursor.execute(_SQL)\n",
    "    data = cursor.fetchall()\n",
    "    print(data)\n",
    "    print(data[0][0],\"is the oldest serving President.\")"
   ]
  },
  {
   "cell_type": "raw",
   "metadata": {},
   "source": [
    "select * from Question6 where Year = '78';\n",
    "+---------------+------+\n",
    "| PresName      | Year |\n",
    "+---------------+------+\n",
    "| Ronald Reagan | 78   |\n",
    "+---------------+------+"
   ]
  },
  {
   "cell_type": "markdown",
   "metadata": {},
   "source": [
    "## Question 7 - Identify the president who served the shortest term in office. How long was that term?\n"
   ]
  },
  {
   "cell_type": "raw",
   "metadata": {
    "collapsed": true
   },
   "source": [
    "Strategy- Finding the differnce between the President's Startterm and President's Endterm to find the president who served the shortest term in office. "
   ]
  },
  {
   "cell_type": "code",
   "execution_count": 96,
   "metadata": {
    "collapsed": true
   },
   "outputs": [],
   "source": [
    "import datetime\n",
    "from dateutil.relativedelta import relativedelta\n",
    "\n",
    "datatotable7 = []\n",
    "\n",
    "start_row = 2\n",
    "for row in range(start_row, len(table_rows)):\n",
    "    data_items = table_rows[row].select('td')\n",
    "    \n",
    "    \n",
    "    try:\n",
    "        start_term = data_items[1].select('span')[0].text\n",
    "    except:\n",
    "        # Franklin D. Roosevelt's entry is formatted differently.\n",
    "        try:\n",
    "            start_term = data_items[1].text.split('\\n')[0]\n",
    "        except:\n",
    "            continue\n",
    "    try:\n",
    "        end_term = data_items[1].select('span')[1].text\n",
    "    except:\n",
    "        # Franklin D. Roosevelt's entry is formatted differently.\n",
    "        try:\n",
    "            end_term = data_items[1].text.split('\\n')[2]\n",
    "        except:\n",
    "            continue\n",
    "    \n",
    "    try:\n",
    "        Start_Term = start_term\n",
    "        End_Term = end_term\n",
    "\n",
    "        def datestr2int(date_str):\n",
    "            return datetime.datetime.strptime(date_str, '%B %d, %Y')\n",
    "        \n",
    "\n",
    "        Start = datestr2int(Start_Term)\n",
    "        End = datestr2int(End_Term)\n",
    "\n",
    "        short=relativedelta(End,Start)\n",
    "        Short= End - Start    # Startterm - Endterm\n",
    "    except:\n",
    "        continue\n",
    "        \n",
    "    try:\n",
    "        Presi = data_items[3].find('a').text\n",
    "    except:\n",
    "        continue\n",
    "        \n",
    "    datatotable7.append((Presi,Short.days))"
   ]
  },
  {
   "cell_type": "code",
   "execution_count": 97,
   "metadata": {},
   "outputs": [
    {
     "data": {
      "text/plain": [
       "[('George Washington', 2865),\n",
       " ('John Adams', 1460),\n",
       " ('Thomas Jefferson', 2922),\n",
       " ('James Madison', 2922),\n",
       " ('James Monroe', 2922),\n",
       " ('John Quincy Adams', 1461),\n",
       " ('Andrew Jackson', 2922),\n",
       " ('Martin Van Buren', 1461),\n",
       " ('William Henry Harrison', 31),\n",
       " ('James K. Polk', 1461),\n",
       " ('Zachary Taylor', 492),\n",
       " ('Franklin Pierce', 1461),\n",
       " ('James Buchanan', 1461),\n",
       " ('Abraham Lincoln', 1503),\n",
       " ('Andrew Johnson', 1419),\n",
       " ('Ulysses S. Grant', 2922),\n",
       " ('Rutherford B. Hayes', 1461),\n",
       " ('James A. Garfield', 199),\n",
       " ('Grover Cleveland', 1461),\n",
       " ('Benjamin Harrison', 1461),\n",
       " ('Grover Cleveland', 1461),\n",
       " ('William McKinley', 1654),\n",
       " ('Theodore Roosevelt', 2728),\n",
       " ('William Howard Taft', 1461),\n",
       " ('Woodrow Wilson', 2922),\n",
       " ('Warren G. Harding', 881),\n",
       " ('Herbert Hoover', 1461),\n",
       " ('Franklin D. Roosevelt', 4422),\n",
       " ('Harry S. Truman', 2840),\n",
       " ('Dwight D. Eisenhower', 2922),\n",
       " ('John F. Kennedy', 1036),\n",
       " ('Lyndon B. Johnson', 1886),\n",
       " ('Richard Nixon', 2027),\n",
       " ('Gerald Ford', 895),\n",
       " ('Jimmy Carter', 1461),\n",
       " ('Ronald Reagan', 2922),\n",
       " ('George H. W. Bush', 1461),\n",
       " ('Bill Clinton', 2922),\n",
       " ('George W. Bush', 2922),\n",
       " ('Barack Obama', 2922)]"
      ]
     },
     "execution_count": 97,
     "metadata": {},
     "output_type": "execute_result"
    }
   ],
   "source": [
    "datatotable7"
   ]
  },
  {
   "cell_type": "markdown",
   "metadata": {},
   "source": [
    "#### Creating the table to find the President who served the shortest term in office."
   ]
  },
  {
   "cell_type": "raw",
   "metadata": {},
   "source": [
    "create table Question7 (Presi varchar(80),Short varchar(32));"
   ]
  },
  {
   "cell_type": "markdown",
   "metadata": {},
   "source": [
    "#### Inserting row data in the table Question7"
   ]
  },
  {
   "cell_type": "code",
   "execution_count": 99,
   "metadata": {},
   "outputs": [],
   "source": [
    "with UseDatabase(config) as cursor:\n",
    "    SQL = \"\"\"insert into Question7 \n",
    "             (Presi,Short)\n",
    "             values\n",
    "             (%s, %s)\"\"\"\n",
    "    for row in datatotable7:\n",
    "        cursor.execute(SQL, row)"
   ]
  },
  {
   "cell_type": "markdown",
   "metadata": {},
   "source": [
    "#### Query 1) To find the least number of days"
   ]
  },
  {
   "cell_type": "code",
   "execution_count": 103,
   "metadata": {},
   "outputs": [
    {
     "name": "stdout",
     "output_type": "stream",
     "text": [
      "[(31,)]\n"
     ]
    }
   ],
   "source": [
    "with UseDatabase(config) as cursor:\n",
    "    _SQL = \"select min(Short) from Question7;\"\n",
    "    cursor.execute(_SQL)\n",
    "    data = cursor.fetchall()\n",
    "    print(data)"
   ]
  },
  {
   "cell_type": "markdown",
   "metadata": {},
   "source": [
    "#### Query 2) To find out the name of the President who served the shotest term"
   ]
  },
  {
   "cell_type": "code",
   "execution_count": 104,
   "metadata": {},
   "outputs": [
    {
     "name": "stdout",
     "output_type": "stream",
     "text": [
      "[('William Henry Harrison', 31)]\n",
      "William Henry Harrison served the shortest term of 31 days as President.\n"
     ]
    }
   ],
   "source": [
    "with UseDatabase(config) as cursor:\n",
    "    _SQL = \"select * from Question7 where Short = 31;\"\n",
    "    cursor.execute(_SQL)\n",
    "    data = cursor.fetchall()\n",
    "    print(data)\n",
    "    print(data[0][0],\"served the shortest term of\",data[0][1], \"days as President.\")"
   ]
  },
  {
   "cell_type": "markdown",
   "metadata": {},
   "source": [
    "## Question8 - Express the number of Presidents for each party-type as a percentage of the total."
   ]
  },
  {
   "cell_type": "raw",
   "metadata": {},
   "source": [
    "Strategy - Picking up the 4th(President's name) and 6th(President's party)"
   ]
  },
  {
   "cell_type": "code",
   "execution_count": null,
   "metadata": {
    "collapsed": true
   },
   "outputs": [],
   "source": [
    "datatotable8 = []\n",
    "\n",
    "start_row = 2\n",
    "for row in range(start_row, len(table_rows)):\n",
    "    data_items = table_rows[row].select('td')\n",
    "    \n",
    "        \n",
    "    try:\n",
    "        Party = data_items[6].text.split('\\n')[0] # to find the Party of each President\n",
    "    except:\n",
    "        continue\n",
    "    \n",
    "    try:\n",
    "        Presi = data_items[3].find('a').text # to fetch the President name\n",
    "    except:\n",
    "        continue\n",
    "    \n",
    "    \n",
    "    print(Presi,Party)\n",
    "    datatotable8.append((Presi,Party))"
   ]
  },
  {
   "cell_type": "code",
   "execution_count": 246,
   "metadata": {},
   "outputs": [
    {
     "data": {
      "text/plain": [
       "[('George Washington', 'Unaffiliated'),\n",
       " ('John Adams', 'Federalist'),\n",
       " ('Thomas Jefferson', 'Democratic-'),\n",
       " ('James Madison', 'Democratic-'),\n",
       " ('James Monroe', 'Democratic-'),\n",
       " ('John Quincy Adams', 'Democratic-'),\n",
       " ('Andrew Jackson', 'Democratic'),\n",
       " ('Martin Van Buren', 'Democratic'),\n",
       " ('William Henry Harrison', 'Whig'),\n",
       " ('John Tyler', 'Whig'),\n",
       " ('James K. Polk', 'Democratic'),\n",
       " ('Zachary Taylor', 'Whig'),\n",
       " ('Millard Fillmore', 'Whig'),\n",
       " ('Franklin Pierce', 'Democratic'),\n",
       " ('James Buchanan', 'Democratic'),\n",
       " ('Abraham Lincoln', 'Republican'),\n",
       " ('Andrew Johnson', 'National Union'),\n",
       " ('Ulysses S. Grant', 'Republican'),\n",
       " ('Rutherford B. Hayes', 'Republican'),\n",
       " ('James A. Garfield', 'Republican'),\n",
       " ('Chester A. Arthur', 'Republican'),\n",
       " ('Grover Cleveland', 'Democratic'),\n",
       " ('Benjamin Harrison', 'Republican'),\n",
       " ('Grover Cleveland', 'Democratic'),\n",
       " ('William McKinley', 'Republican'),\n",
       " ('Theodore Roosevelt', 'Republican'),\n",
       " ('William Howard Taft', 'Republican'),\n",
       " ('Woodrow Wilson', 'Democratic'),\n",
       " ('Warren G. Harding', 'Republican'),\n",
       " ('Calvin Coolidge', 'Republican'),\n",
       " ('Herbert Hoover', 'Republican'),\n",
       " ('Franklin D. Roosevelt', 'Democratic'),\n",
       " ('Harry S. Truman', 'Democratic'),\n",
       " ('Dwight D. Eisenhower', 'Republican'),\n",
       " ('John F. Kennedy', 'Democratic'),\n",
       " ('Lyndon B. Johnson', 'Democratic'),\n",
       " ('Richard Nixon', 'Republican'),\n",
       " ('Gerald Ford', 'Republican'),\n",
       " ('Jimmy Carter', 'Democratic'),\n",
       " ('Ronald Reagan', 'Republican'),\n",
       " ('George H. W. Bush', 'Republican'),\n",
       " ('Bill Clinton', 'Democratic'),\n",
       " ('George W. Bush', 'Republican'),\n",
       " ('Barack Obama', 'Democratic'),\n",
       " ('Donald Trump', 'Republican')]"
      ]
     },
     "execution_count": 246,
     "metadata": {},
     "output_type": "execute_result"
    }
   ],
   "source": [
    "datatotable8"
   ]
  },
  {
   "cell_type": "markdown",
   "metadata": {},
   "source": [
    "#### Creating table to fetch the number of presidents for each party type"
   ]
  },
  {
   "cell_type": "code",
   "execution_count": null,
   "metadata": {
    "collapsed": true
   },
   "outputs": [],
   "source": [
    "with UseDatabase(config) as cursor:\n",
    "    SQL = \"\"\"insert into Question8 \n",
    "             (Presi,Party)\n",
    "             values\n",
    "             (%s, %s)\"\"\"\n",
    "    for row in datatotable8:\n",
    "        cursor.execute(SQL, row)"
   ]
  },
  {
   "cell_type": "markdown",
   "metadata": {},
   "source": [
    "#### Query 1) To find the percentage of Unaffiliated party"
   ]
  },
  {
   "cell_type": "code",
   "execution_count": 162,
   "metadata": {},
   "outputs": [
    {
     "name": "stdout",
     "output_type": "stream",
     "text": [
      "[(1,)]\n",
      "1 president is from Unaffiliated Party\n",
      "Percentage of Unaffiliated party is  2.272727272727273\n"
     ]
    }
   ],
   "source": [
    "with UseDatabase(config) as cursor:\n",
    "    _SQL = \"select count(*) as Unaffiliated from Question8 where Party = 'Unaffiliated' ;\"\n",
    "    cursor.execute(_SQL)\n",
    "    data = cursor.fetchall()\n",
    "    print(data)\n",
    "    print(data[0][0],\"president is from Unaffiliated Party\")\n",
    "Percentage=(1/44)*100\n",
    "print(\"Percentage of Unaffiliated party is \",Percentage)"
   ]
  },
  {
   "cell_type": "markdown",
   "metadata": {},
   "source": [
    "#### Query 2) To find the percentage of Republican party"
   ]
  },
  {
   "cell_type": "code",
   "execution_count": 163,
   "metadata": {},
   "outputs": [
    {
     "name": "stdout",
     "output_type": "stream",
     "text": [
      "[(19,)]\n",
      "19 presidents are from Republican Party\n",
      "Percentage of Republican party is  43.18181818181818\n"
     ]
    }
   ],
   "source": [
    "with UseDatabase(config) as cursor:\n",
    "    _SQL = \"select count(*) as Republican from Question8 where Party = 'Republican';\"\n",
    "    cursor.execute(_SQL)\n",
    "    data = cursor.fetchall()\n",
    "    print(data)\n",
    "    print(data[0][0],\"presidents are from Republican Party\")\n",
    "Percentage=(19/44)*100\n",
    "print(\"Percentage of Republican party is \",Percentage)"
   ]
  },
  {
   "cell_type": "markdown",
   "metadata": {},
   "source": [
    "#### Query 3) To find the percentage of Democratic-Republican party"
   ]
  },
  {
   "cell_type": "code",
   "execution_count": 164,
   "metadata": {},
   "outputs": [
    {
     "name": "stdout",
     "output_type": "stream",
     "text": [
      "[(4,)]\n",
      "4 presidents are from DemocraticRepublican Party\n",
      "Percentage of Democratic-Republican party is  9.090909090909092\n"
     ]
    }
   ],
   "source": [
    "with UseDatabase(config) as cursor:\n",
    "    _SQL = \"select count(*) as DemocraticRepublican from Question8 where Party = 'Democratic-';\"\n",
    "    cursor.execute(_SQL)\n",
    "    data = cursor.fetchall()\n",
    "    print(data)\n",
    "    print(data[0][0],\"presidents are from DemocraticRepublican Party\")\n",
    "Percentage=(4/44)*100\n",
    "print(\"Percentage of Democratic-Republican party is \",Percentage)"
   ]
  },
  {
   "cell_type": "markdown",
   "metadata": {},
   "source": [
    "#### Query 4) To find the percentage of Whig party"
   ]
  },
  {
   "cell_type": "code",
   "execution_count": 165,
   "metadata": {},
   "outputs": [
    {
     "name": "stdout",
     "output_type": "stream",
     "text": [
      "[(4,)]\n",
      "4 presidents are from Whig Party\n",
      "Percentage of Whig party is  9.090909090909092\n"
     ]
    }
   ],
   "source": [
    "with UseDatabase(config) as cursor:\n",
    "    _SQL = \"select count(*) as Whig from Question8 where Party = 'Whig';\"\n",
    "    cursor.execute(_SQL)\n",
    "    data = cursor.fetchall()\n",
    "    print(data)\n",
    "    print(data[0][0],\"presidents are from Whig Party\")\n",
    "Percentage=(4/44)*100\n",
    "print(\"Percentage of Whig party is \",Percentage)"
   ]
  },
  {
   "cell_type": "markdown",
   "metadata": {},
   "source": [
    "#### Query 5) To find the percentage of Federalist party"
   ]
  },
  {
   "cell_type": "code",
   "execution_count": 167,
   "metadata": {},
   "outputs": [
    {
     "name": "stdout",
     "output_type": "stream",
     "text": [
      "[(1,)]\n",
      "1 presidents are from Federalist Party\n",
      "Percentage of Federalist party is  2.272727272727273\n"
     ]
    }
   ],
   "source": [
    "with UseDatabase(config) as cursor:\n",
    "    _SQL = \"select count(*) as Federalist from Question8 where Party = 'Federalist';\"\n",
    "    cursor.execute(_SQL)\n",
    "    data = cursor.fetchall()\n",
    "    print(data)\n",
    "    print(data[0][0],\"presidents are from Federalist Party\")\n",
    "Percentage=(1/44)*100\n",
    "print(\"Percentage of Federalist party is \",Percentage)"
   ]
  },
  {
   "cell_type": "markdown",
   "metadata": {},
   "source": [
    "#### Query 6) To find the percentage of National Union party"
   ]
  },
  {
   "cell_type": "code",
   "execution_count": 168,
   "metadata": {},
   "outputs": [
    {
     "name": "stdout",
     "output_type": "stream",
     "text": [
      "[(1,)]\n",
      "1 presidents are from NationalUnion Party\n",
      "Percentage of NationalUnion party is  2.272727272727273\n"
     ]
    }
   ],
   "source": [
    "with UseDatabase(config) as cursor:\n",
    "    _SQL = \"select count(*) as NationalUnion from Question8 where Party = 'National Union';\"\n",
    "    cursor.execute(_SQL)\n",
    "    data = cursor.fetchall()\n",
    "    print(data)\n",
    "    print(data[0][0],\"presidents are from NationalUnion Party\")\n",
    "Percentage=(1/44)*100\n",
    "print(\"Percentage of NationalUnion party is \",Percentage)"
   ]
  },
  {
   "cell_type": "markdown",
   "metadata": {},
   "source": [
    "## Question 9 - Categorize the Presidents by US state (i.e., place-of-birth)."
   ]
  },
  {
   "cell_type": "raw",
   "metadata": {},
   "source": [
    "Strategy - After “clicking” on the link associated with each President and finding the text 'Born' in 'th' and splitting it after the new line character,and seperating them with ',' character,"
   ]
  },
  {
   "cell_type": "code",
   "execution_count": 176,
   "metadata": {
    "collapsed": true
   },
   "outputs": [],
   "source": [
    "def determine_birth_place(url):\n",
    "    pres_resp = requests.get(url)\n",
    "    soup = BeautifulSoup(pres_resp.text, 'lxml')\n",
    "    pres_table_rows = soup.select('table')\n",
    "    pres_spans = pres_table_rows[0].select('tr')\n",
    "    # Find the birth place.\n",
    "    birth_place = 'New York' \n",
    "    for th in pres_spans:\n",
    "        \n",
    "        try:\n",
    "            if 'Born' in th.text:\n",
    "                birth_place1 = th.text.split('\\n')[4] or th.text.split('\\n')[3]\n",
    "                birth_place = birth_place1.split(',')[1] # seperating the text with ',' character\n",
    "            if 'Virginia' in birth_place: #some of the presidents birthplace is mentioned as 'Colony of Virginia' \n",
    "                birth_place = 'Virginia'  # converting it into 'Virginia' to make it common\n",
    "            elif 'British America' in birth_place: # converting 'British America' into 'North Carolina'\n",
    "                birth_place = 'North Carolina'\n",
    "            \n",
    "        except:\n",
    "            continue\n",
    "            \n",
    "    return(birth_place)"
   ]
  },
  {
   "cell_type": "code",
   "execution_count": 177,
   "metadata": {},
   "outputs": [
    {
     "name": "stdout",
     "output_type": "stream",
     "text": [
      "George Washington : Virginia\n",
      "John Adams :  Massachusetts\n",
      "Thomas Jefferson : Virginia\n",
      "James Madison : Virginia\n",
      "James Monroe : Virginia\n",
      "John Quincy Adams :  Massachusetts\n",
      "Andrew Jackson : North Carolina\n",
      "Martin Van Buren :  New York\n",
      "William Henry Harrison : Virginia\n",
      "John Tyler : Virginia\n",
      "James K. Polk :  North Carolina\n",
      "Zachary Taylor : Virginia\n",
      "Millard Fillmore :  New York\n",
      "Franklin Pierce :  New Hampshire\n",
      "James Buchanan :  Pennsylvania\n",
      "Abraham Lincoln :  Kentucky\n",
      "Andrew Johnson :  North Carolina\n",
      "Ulysses S. Grant :  Ohio\n",
      "Rutherford B. Hayes :  Ohio\n",
      "James A. Garfield :  Ohio\n",
      "Chester A. Arthur :  Vermont\n",
      "Grover Cleveland :  New Jersey\n",
      "Benjamin Harrison :  Ohio\n",
      "Grover Cleveland :  New Jersey\n",
      "William McKinley :  Ohio\n",
      "Theodore Roosevelt :  New York\n",
      "William Howard Taft :  Ohio\n",
      "Woodrow Wilson : Virginia\n",
      "Warren G. Harding :  Ohio\n",
      "Calvin Coolidge :  Vermont\n",
      "Herbert Hoover :  Iowa\n",
      "Franklin D. Roosevelt :  New York\n",
      "Harry S. Truman :  Missouri\n",
      "Dwight D. Eisenhower :  Texas\n",
      "John F. Kennedy :  Massachusetts\n",
      "Lyndon B. Johnson :  Texas\n",
      "Richard Nixon :  California\n",
      "Gerald Ford :  Nebraska\n",
      "Jimmy Carter :  Georgia\n",
      "Ronald Reagan :  Illinois\n",
      "George H. W. Bush :  Massachusetts\n",
      "Bill Clinton :  Arkansas\n",
      "George W. Bush :  Connecticut\n",
      "Barack Obama :  Hawaii\n",
      "Donald Trump : New York\n"
     ]
    }
   ],
   "source": [
    "datatotable9 = []\n",
    "\n",
    "start_row = 2\n",
    "for row in range(start_row, len(table_rows)):\n",
    "    data_items = table_rows[row].select('td')\n",
    "    try:\n",
    "        Prname = data_items[3].find('a').text\n",
    "    except:\n",
    "        continue \n",
    "    if Prname in ['George Washington', 'Donald Trump', 'John Tyler', 'Millard Fillmore', 'Abraham Lincoln', 'Chester A. Arthur', 'William McKinley', 'Calvin Coolidge', 'John F. Kennedy', 'Richard Nixon']:\n",
    "        which_anchor = 3\n",
    "    elif Prname in ['William Henry Harrison', 'Zachary Taylor']:\n",
    "        which_anchor = 1\n",
    "    else:\n",
    "        which_anchor = 2\n",
    "    more_details = BASE_URL+table_rows[row].select('a')[which_anchor].attrs['href']\n",
    "    Birthplace = determine_birth_place(more_details)\n",
    "    \n",
    "    print(Prname, ':', Birthplace)\n",
    "    \n",
    "    datatotable9.append((Prname,Birthplace))"
   ]
  },
  {
   "cell_type": "code",
   "execution_count": 178,
   "metadata": {},
   "outputs": [
    {
     "data": {
      "text/plain": [
       "[('George Washington', 'Virginia'),\n",
       " ('John Adams', ' Massachusetts'),\n",
       " ('Thomas Jefferson', 'Virginia'),\n",
       " ('James Madison', 'Virginia'),\n",
       " ('James Monroe', 'Virginia'),\n",
       " ('John Quincy Adams', ' Massachusetts'),\n",
       " ('Andrew Jackson', 'North Carolina'),\n",
       " ('Martin Van Buren', ' New York'),\n",
       " ('William Henry Harrison', 'Virginia'),\n",
       " ('John Tyler', 'Virginia'),\n",
       " ('James K. Polk', ' North Carolina'),\n",
       " ('Zachary Taylor', 'Virginia'),\n",
       " ('Millard Fillmore', ' New York'),\n",
       " ('Franklin Pierce', ' New Hampshire'),\n",
       " ('James Buchanan', ' Pennsylvania'),\n",
       " ('Abraham Lincoln', ' Kentucky'),\n",
       " ('Andrew Johnson', ' North Carolina'),\n",
       " ('Ulysses S. Grant', ' Ohio'),\n",
       " ('Rutherford B. Hayes', ' Ohio'),\n",
       " ('James A. Garfield', ' Ohio'),\n",
       " ('Chester A. Arthur', ' Vermont'),\n",
       " ('Grover Cleveland', ' New Jersey'),\n",
       " ('Benjamin Harrison', ' Ohio'),\n",
       " ('Grover Cleveland', ' New Jersey'),\n",
       " ('William McKinley', ' Ohio'),\n",
       " ('Theodore Roosevelt', ' New York'),\n",
       " ('William Howard Taft', ' Ohio'),\n",
       " ('Woodrow Wilson', 'Virginia'),\n",
       " ('Warren G. Harding', ' Ohio'),\n",
       " ('Calvin Coolidge', ' Vermont'),\n",
       " ('Herbert Hoover', ' Iowa'),\n",
       " ('Franklin D. Roosevelt', ' New York'),\n",
       " ('Harry S. Truman', ' Missouri'),\n",
       " ('Dwight D. Eisenhower', ' Texas'),\n",
       " ('John F. Kennedy', ' Massachusetts'),\n",
       " ('Lyndon B. Johnson', ' Texas'),\n",
       " ('Richard Nixon', ' California'),\n",
       " ('Gerald Ford', ' Nebraska'),\n",
       " ('Jimmy Carter', ' Georgia'),\n",
       " ('Ronald Reagan', ' Illinois'),\n",
       " ('George H. W. Bush', ' Massachusetts'),\n",
       " ('Bill Clinton', ' Arkansas'),\n",
       " ('George W. Bush', ' Connecticut'),\n",
       " ('Barack Obama', ' Hawaii'),\n",
       " ('Donald Trump', 'New York')]"
      ]
     },
     "execution_count": 178,
     "metadata": {},
     "output_type": "execute_result"
    }
   ],
   "source": [
    "datatotable9"
   ]
  },
  {
   "cell_type": "markdown",
   "metadata": {},
   "source": [
    "#### Creating the table to Categorize the Presidents by their Birthplace."
   ]
  },
  {
   "cell_type": "code",
   "execution_count": null,
   "metadata": {
    "collapsed": true
   },
   "outputs": [],
   "source": [
    "Create table Question9 (Prname varchar(80),Birthplace varchar (80));"
   ]
  },
  {
   "cell_type": "markdown",
   "metadata": {},
   "source": [
    "#### Inserting the row values into table9"
   ]
  },
  {
   "cell_type": "code",
   "execution_count": 179,
   "metadata": {
    "collapsed": true
   },
   "outputs": [],
   "source": [
    "with UseDatabase(config) as cursor:\n",
    "    SQL = \"\"\"insert into Question9 \n",
    "             (Prname, Birthplace)\n",
    "             values\n",
    "             (%s, %s)\"\"\"\n",
    "    for row in datatotable9:\n",
    "        cursor.execute(SQL, row)"
   ]
  },
  {
   "cell_type": "markdown",
   "metadata": {},
   "source": [
    "#### Query1) To find which President belong to which state."
   ]
  },
  {
   "cell_type": "code",
   "execution_count": 180,
   "metadata": {},
   "outputs": [
    {
     "name": "stdout",
     "output_type": "stream",
     "text": [
      "('George Washington', 'Virginia')\n",
      "('John Adams', ' Massachusetts')\n",
      "('Thomas Jefferson', 'Virginia')\n",
      "('James Madison', 'Virginia')\n",
      "('James Monroe', 'Virginia')\n",
      "('John Quincy Adams', ' Massachusetts')\n",
      "('Andrew Jackson', 'North Carolina')\n",
      "('Martin Van Buren', ' New York')\n",
      "('William Henry Harrison', 'Virginia')\n",
      "('John Tyler', 'Virginia')\n",
      "('James K. Polk', ' North Carolina')\n",
      "('Zachary Taylor', 'Virginia')\n",
      "('Millard Fillmore', ' New York')\n",
      "('Franklin Pierce', ' New Hampshire')\n",
      "('James Buchanan', ' Pennsylvania')\n",
      "('Abraham Lincoln', ' Kentucky')\n",
      "('Andrew Johnson', ' North Carolina')\n",
      "('Ulysses S. Grant', ' Ohio')\n",
      "('Rutherford B. Hayes', ' Ohio')\n",
      "('James A. Garfield', ' Ohio')\n",
      "('Chester A. Arthur', ' Vermont')\n",
      "('Grover Cleveland', ' New Jersey')\n",
      "('Benjamin Harrison', ' Ohio')\n",
      "('Grover Cleveland', ' New Jersey')\n",
      "('William McKinley', ' Ohio')\n",
      "('Theodore Roosevelt', ' New York')\n",
      "('William Howard Taft', ' Ohio')\n",
      "('Woodrow Wilson', 'Virginia')\n",
      "('Warren G. Harding', ' Ohio')\n",
      "('Calvin Coolidge', ' Vermont')\n",
      "('Herbert Hoover', ' Iowa')\n",
      "('Franklin D. Roosevelt', ' New York')\n",
      "('Harry S. Truman', ' Missouri')\n",
      "('Dwight D. Eisenhower', ' Texas')\n",
      "('John F. Kennedy', ' Massachusetts')\n",
      "('Lyndon B. Johnson', ' Texas')\n",
      "('Richard Nixon', ' California')\n",
      "('Gerald Ford', ' Nebraska')\n",
      "('Jimmy Carter', ' Georgia')\n",
      "('Ronald Reagan', ' Illinois')\n",
      "('George H. W. Bush', ' Massachusetts')\n",
      "('Bill Clinton', ' Arkansas')\n",
      "('George W. Bush', ' Connecticut')\n",
      "('Barack Obama', ' Hawaii')\n",
      "('Donald Trump', 'New York')\n"
     ]
    }
   ],
   "source": [
    "with UseDatabase(config) as cursor:\n",
    "    _SQL = \"select * from Question9 ;\"\n",
    "    cursor.execute(_SQL)\n",
    "    data = cursor.fetchall()\n",
    "    for d in data:\n",
    "        print(d)\n",
    "    "
   ]
  },
  {
   "cell_type": "markdown",
   "metadata": {},
   "source": [
    "## Question 10 - Identify which state has produced the most Presidents.\n"
   ]
  },
  {
   "cell_type": "markdown",
   "metadata": {},
   "source": [
    "#### Query 1) To find which state produced maximum number of Presidents in decreasing order"
   ]
  },
  {
   "cell_type": "code",
   "execution_count": 260,
   "metadata": {},
   "outputs": [
    {
     "name": "stdout",
     "output_type": "stream",
     "text": [
      "(8, 'Virginia')\n",
      "(7, 'Ohio')\n",
      "(5, 'New York')\n",
      "(4, 'Massachusetts')\n",
      "(3, 'North Carolina')\n",
      "(2, 'Vermont')\n",
      "(2, 'New Jersey')\n",
      "(2, 'Texas')\n",
      "(1, 'New Hampshire')\n",
      "(1, 'Pennsylvania')\n",
      "(1, 'Kentucky')\n",
      "(1, 'Iowa')\n",
      "(1, 'Missouri')\n",
      "(1, 'California')\n",
      "(1, 'Nebraska')\n",
      "(1, 'Georgia')\n",
      "(1, 'Illinois')\n",
      "(1, 'Arkansas')\n",
      "(1, 'Connecticut')\n",
      "(1, 'Hawaii')\n"
     ]
    }
   ],
   "source": [
    "with UseDatabase(config) as cursor:\n",
    "    _SQL = \"select count(Birthplace),Birthplace from Question9 group by Birthplace order by count(Birthplace) DESC ;\"\n",
    "    cursor.execute(_SQL)\n",
    "    data = cursor.fetchall()\n",
    "    for d in data:\n",
    "        print(d)"
   ]
  },
  {
   "cell_type": "raw",
   "metadata": {},
   "source": [
    "mysql>  select count(Birthplace),Birthplace from Question9 group by Birthplace order by count(Birthplace) DESC;\n",
    "+-------------------+----------------+\n",
    "| count(Birthplace) | Birthplace     |\n",
    "+-------------------+----------------+\n",
    "|                 8 | Virginia       |\n",
    "|                 7 | Ohio           |\n",
    "|                 5 | New York       |\n",
    "|                 4 | Massachusetts  |\n",
    "|                 3 | North Carolina |\n",
    "|                 2 | Vermont        |\n",
    "|                 2 | New Jersey     |\n",
    "|                 2 | Texas          |\n",
    "|                 1 | New Hampshire  |\n",
    "|                 1 | Pennsylvania   |\n",
    "|                 1 | Kentucky       |\n",
    "|                 1 | Iowa           |\n",
    "|                 1 | Missouri       |\n",
    "|                 1 | California     |\n",
    "|                 1 | Nebraska       |\n",
    "|                 1 | Georgia        |\n",
    "|                 1 | Illinois       |\n",
    "|                 1 | Arkansas       |\n",
    "|                 1 | Connecticut    |\n",
    "|                 1 | Hawaii         |\n",
    "+-------------------+----------------+\n",
    "20 rows in set (0.00 sec)"
   ]
  },
  {
   "cell_type": "markdown",
   "metadata": {},
   "source": [
    "#### Query 2)To find which state has produced maximum number of Presidents"
   ]
  },
  {
   "cell_type": "code",
   "execution_count": 261,
   "metadata": {},
   "outputs": [
    {
     "name": "stdout",
     "output_type": "stream",
     "text": [
      "[(8, 'Virginia')]\n",
      "Virginia has produced Virginia Presidents.\n"
     ]
    }
   ],
   "source": [
    "with UseDatabase(config) as cursor:\n",
    "    _SQL = \"select count(Birthplace),Birthplace from Question9 group by Birthplace order by count(Birthplace) DESC LIMIT 1;\"\n",
    "    cursor.execute(_SQL)\n",
    "    data = cursor.fetchall()\n",
    "    print(data)\n",
    "    print(data[0][1],\"has produced\",data[0][1],\"Presidents.\")"
   ]
  },
  {
   "cell_type": "raw",
   "metadata": {},
   "source": [
    "mysql> select count(Birthplace),Birthplace from Question9 group by Birthplace order by count(Birthplace) DESC LIMIT 1;\n",
    "+-------------------+------------+\n",
    "| count(Birthplace) | Birthplace |\n",
    "+-------------------+------------+\n",
    "|                 8 | Virginia   |\n",
    "+-------------------+------------+\n",
    "1 row in set (0.00 sec)"
   ]
  },
  {
   "cell_type": "markdown",
   "metadata": {},
   "source": [
    "## Question11 - Identify those state(s) which have produced only one President."
   ]
  },
  {
   "cell_type": "markdown",
   "metadata": {},
   "source": [
    "#### Query 1) To find out which states have produced one only President"
   ]
  },
  {
   "cell_type": "code",
   "execution_count": 119,
   "metadata": {},
   "outputs": [
    {
     "name": "stdout",
     "output_type": "stream",
     "text": [
      "(1, 'New Hampshire')\n",
      "(1, 'Pennsylvania')\n",
      "(1, 'Kentucky')\n",
      "(1, 'Iowa')\n",
      "(1, 'Missouri')\n",
      "(1, 'California')\n",
      "(1, 'Nebraska')\n",
      "(1, 'Georgia')\n",
      "(1, 'Illinois')\n",
      "(1, 'Arkansas')\n",
      "(1, 'Connecticut')\n",
      "(1, 'Hawaii')\n"
     ]
    }
   ],
   "source": [
    "with UseDatabase(config) as cursor:\n",
    "    _SQL = \"select count(Birthplace),Birthplace from Question9 group by Birthplace order by count(Birthplace) ASC LIMIT 12;\"\n",
    "    cursor.execute(_SQL)\n",
    "    data = cursor.fetchall()\n",
    "    for d in data:\n",
    "        print(d)"
   ]
  },
  {
   "cell_type": "raw",
   "metadata": {},
   "source": [
    "mysql>  select count(Birthplace),Birthplace from Question9 group by Birthplace order by count(Birthplace) ASC LIMIT 12;\n",
    "+-------------------+---------------+\n",
    "| count(Birthplace) | Birthplace    |\n",
    "+-------------------+---------------+\n",
    "|                 1 | New Hampshire |\n",
    "|                 1 | Pennsylvania  |\n",
    "|                 1 | Kentucky      |\n",
    "|                 1 | Iowa          |\n",
    "|                 1 | Missouri      |\n",
    "|                 1 | California    |\n",
    "|                 1 | Nebraska      |\n",
    "|                 1 | Georgia       |\n",
    "|                 1 | Illinois      |\n",
    "|                 1 | Arkansas      |\n",
    "|                 1 | Connecticut   |\n",
    "|                 1 | Hawaii        |\n",
    "+-------------------+---------------+\n",
    "12 rows in set (0.00 sec)"
   ]
  },
  {
   "cell_type": "markdown",
   "metadata": {
    "collapsed": true
   },
   "source": [
    "## Question 12 - Provide a list of States which have never produced a President.\n"
   ]
  },
  {
   "cell_type": "raw",
   "metadata": {},
   "source": [
    "Strategy - To list the states which did not produce Presidents at all, I am manually inserting all the 50 states of USA into the table called Question12 list below."
   ]
  },
  {
   "cell_type": "code",
   "execution_count": null,
   "metadata": {
    "collapsed": true
   },
   "outputs": [],
   "source": [
    "INSERT INTO Question12 VALUES (\"Alabama\" );\n",
    "                       \n",
    "INSERT INTO Question12 VALUES (\"Alaska\"); \n",
    "\n",
    "INSERT INTO Question12 VALUES (\"Arizona\");\n",
    "\n",
    "INSERT INTO Question12 VALUES (\"Arkansas\");\n",
    "\n",
    "INSERT INTO Question12 VALUES (\"California\");\n",
    "\n",
    "INSERT INTO Question12 VALUES (\"Colorado\");\n",
    "\n",
    "INSERT INTO Question12 VALUES (\"Connecticut\");\n",
    "\n",
    "INSERT INTO Question12 VALUES (\"Delaware\");\n",
    "\n",
    "INSERT INTO Question12 VALUES (\"Florida\");\n",
    "\n",
    "INSERT INTO Question12 VALUES (\"Georgia\");\n",
    "\n",
    "INSERT INTO Question12 VALUES (\"Hawaii\");\n",
    "\n",
    "INSERT INTO Question12 VALUES (\"Idaho\");\n",
    "\n",
    "INSERT INTO Question12 VALUES (\"Illinois\");\n",
    "\n",
    "INSERT INTO Question12 VALUES (\"Indiana\");\n",
    "\n",
    "INSERT INTO Question12 VALUES (\"Iowa\");\n",
    "\n",
    "INSERT INTO Question12 VALUES (\"Kansas\");\n",
    "\n",
    "INSERT INTO Question12 VALUES (\"Kentucky\");\n",
    "\n",
    "INSERT INTO Question12 VALUES (\"Louisiana\");\n",
    "\n",
    "INSERT INTO Question12 VALUES (\"Maine\");\n",
    "\n",
    "INSERT INTO Question12 VALUES (\"Maryland\");\n",
    "\n",
    "INSERT INTO Question12 VALUES (\"Massachusetts\");\n",
    "\n",
    "INSERT INTO Question12 VALUES (\"Michigan\");\n",
    "\n",
    "INSERT INTO Question12 VALUES (\"Minnesota\");\n",
    "\n",
    "INSERT INTO Question12 VALUES (\"Mississippi\");\n",
    "\n",
    "INSERT INTO Question12 VALUES (\"Missouri\");\n",
    "\n",
    "INSERT INTO Question12 VALUES (\"Montana\");\n",
    "\n",
    "INSERT INTO Question12 VALUES (\"Nebraska\");\n",
    "\n",
    "INSERT INTO Question12 VALUES (\"Nevada\");\n",
    "\n",
    "INSERT INTO Question12 VALUES (\"New Hampshire\");\n",
    "\n",
    "INSERT INTO Question12 VALUES (\"New Jersey\");\n",
    "\n",
    "INSERT INTO Question12 VALUES (\"New Mexico\");\n",
    "\n",
    "INSERT INTO Question12 VALUES (\"New York\");\n",
    "\n",
    "INSERT INTO Question12 VALUES (\"North Carolina\");\n",
    "\n",
    "INSERT INTO Question12 VALUES (\"North Dakota\");\n",
    "\n",
    "INSERT INTO Question12 VALUES (\"Ohio\");\n",
    "\n",
    "INSERT INTO Question12 VALUES (\"Oklahoma\");\n",
    "\n",
    "INSERT INTO Question12 VALUES (\"Oregon\");\n",
    "\n",
    "INSERT INTO Question12 VALUES (\"Pennsylvania\");\n",
    "\n",
    "INSERT INTO Question12 VALUES (\"Rhode Island\");\n",
    "\n",
    "INSERT INTO Question12 VALUES (\"South Carolina\");\n",
    "\n",
    "INSERT INTO Question12 VALUES (\"South Dakota\");\n",
    "\n",
    "INSERT INTO Question12 VALUES (\"Tennessee\");\n",
    "\n",
    "INSERT INTO Question12 VALUES (\"Texas\");\n",
    "\n",
    "INSERT INTO Question12 VALUES (\"Utah\");\n",
    "\n",
    "INSERT INTO Question12 VALUES (\"Vermont\");\n",
    "\n",
    "INSERT INTO Question12 VALUES (\"Virginia\"); \n",
    "\n",
    "INSERT INTO Question12 VALUES (\"Washington\");\n",
    "\n",
    "INSERT INTO Question12 VALUES (\"West Virginia\");\n",
    "\n",
    "INSERT INTO Question12 VALUES (\"Wisconsin\");\n",
    "\n",
    "INSERT INTO Question12 VALUES (\"Wyoming\");"
   ]
  },
  {
   "cell_type": "markdown",
   "metadata": {},
   "source": [
    "#### Query 1) To list out all the inserted states"
   ]
  },
  {
   "cell_type": "raw",
   "metadata": {},
   "source": [
    "mysql> select * from Question12;\n",
    "+----------------+\n",
    "| States         |\n",
    "+----------------+\n",
    "| Alabama        |\n",
    "| Alaska         |\n",
    "| Arizona        |\n",
    "| Arkansas       |\n",
    "| California     |\n",
    "| Colorado       |\n",
    "| Connecticut    |\n",
    "| Delaware       |\n",
    "| Florida        |\n",
    "| Georgia        |\n",
    "| Hawaii         |\n",
    "| Idaho          |\n",
    "| Illinois       |\n",
    "| Indiana        |\n",
    "| Iowa           |\n",
    "| Kansas         |\n",
    "| Kentucky       |\n",
    "| Louisiana      |\n",
    "| Maine          |\n",
    "| Maryland       |\n",
    "| Massachusetts  |\n",
    "| Michigan       |\n",
    "| Minnesota      |\n",
    "| Mississippi    |\n",
    "| Missouri       |\n",
    "| Montana        |\n",
    "| Nebraska       |\n",
    "| Nevada         |\n",
    "| New Hampshire  |\n",
    "| New Jersey     |\n",
    "| New Mexico     |\n",
    "| New York       |\n",
    "| North Carolina |\n",
    "| North Dakota   |\n",
    "| Ohio           |\n",
    "| Oklahoma       |\n",
    "| Oregon         |\n",
    "| Pennsylvania   |\n",
    "| Rhode Island   |\n",
    "| South Carolina |\n",
    "| South Dakota   |\n",
    "| Tennessee      |\n",
    "| Texas          |\n",
    "| Utah           |\n",
    "| Vermont        |\n",
    "| Virginia       |\n",
    "| Washington     |\n",
    "| West Virginia  |\n",
    "| Wisconsin      |\n",
    "| Wyoming        |\n",
    "+----------------+\n",
    "50 rows in set (0.01 sec)\n"
   ]
  },
  {
   "cell_type": "markdown",
   "metadata": {},
   "source": [
    "#### Query 2) To list out all the states which hasnt produced a single President."
   ]
  },
  {
   "cell_type": "raw",
   "metadata": {},
   "source": [
    "mysql> SELECT States\n",
    "    -> FROM Question12\n",
    "    -> WHERE States NOT IN(select Birthplace from Question9 group by Birthplace order by count(Birthplace));\n",
    "+----------------+\n",
    "| States         |\n",
    "+----------------+\n",
    "| Alabama        |\n",
    "| Alaska         |\n",
    "| Arizona        |\n",
    "| Colorado       |\n",
    "| Delaware       |\n",
    "| Florida        |\n",
    "| Idaho          |\n",
    "| Indiana        |\n",
    "| Kansas         |\n",
    "| Louisiana      |\n",
    "| Maine          |\n",
    "| Maryland       |\n",
    "| Michigan       |\n",
    "| Minnesota      |\n",
    "| Mississippi    |\n",
    "| Montana        |\n",
    "| Nevada         |\n",
    "| New Mexico     |\n",
    "| North Dakota   |\n",
    "| Oklahoma       |\n",
    "| Oregon         |\n",
    "| Rhode Island   |\n",
    "| South Carolina |\n",
    "| South Dakota   |\n",
    "| Tennessee      |\n",
    "| Utah           |\n",
    "| Washington     |\n",
    "| West Virginia  |\n",
    "| Wisconsin      |\n",
    "| Wyoming        |\n",
    "+----------------+\n",
    "30 rows in set (0.01 sec)"
   ]
  }
 ],
 "metadata": {
  "kernelspec": {
   "display_name": "Python 3",
   "language": "python",
   "name": "python3"
  },
  "language_info": {
   "codemirror_mode": {
    "name": "ipython",
    "version": 3
   },
   "file_extension": ".py",
   "mimetype": "text/x-python",
   "name": "python",
   "nbconvert_exporter": "python",
   "pygments_lexer": "ipython3",
   "version": "3.6.2"
  }
 },
 "nbformat": 4,
 "nbformat_minor": 2
}
